{
 "cells": [
  {
   "cell_type": "markdown",
   "metadata": {},
   "source": [
    "# Bikeshare rides (Winter 2018)\n",
    "This notebook analyzes bikeshare data for NYC citibikes. \n",
    "\n",
    "Here we get some of the bike data (Jan - Mar of 2018) as a sample set and perform some basic exploratory analysis and plot-making"
   ]
  },
  {
   "cell_type": "code",
   "execution_count": 1,
   "metadata": {},
   "outputs": [],
   "source": [
    "%matplotlib inline\n",
    "import matplotlib.pyplot as plt\n",
    "import matplotlib as mpl\n",
    "import mplleaflet\n",
    "import pandas as pd\n",
    "import numpy as np\n",
    "import json\n",
    "import math\n",
    "from matplotlib import cm\n",
    "\n",
    "\n",
    "\n",
    "from mpl_toolkits.basemap import Basemap\n"
   ]
  },
  {
   "cell_type": "code",
   "execution_count": 2,
   "metadata": {
    "scrolled": true
   },
   "outputs": [
    {
     "data": {
      "text/html": [
       "<div>\n",
       "<style scoped>\n",
       "    .dataframe tbody tr th:only-of-type {\n",
       "        vertical-align: middle;\n",
       "    }\n",
       "\n",
       "    .dataframe tbody tr th {\n",
       "        vertical-align: top;\n",
       "    }\n",
       "\n",
       "    .dataframe thead th {\n",
       "        text-align: right;\n",
       "    }\n",
       "</style>\n",
       "<table border=\"1\" class=\"dataframe\">\n",
       "  <thead>\n",
       "    <tr style=\"text-align: right;\">\n",
       "      <th></th>\n",
       "      <th>tripduration</th>\n",
       "      <th>starttime</th>\n",
       "      <th>stoptime</th>\n",
       "      <th>start station id</th>\n",
       "      <th>start station name</th>\n",
       "      <th>start station latitude</th>\n",
       "      <th>start station longitude</th>\n",
       "      <th>end station id</th>\n",
       "      <th>end station name</th>\n",
       "      <th>end station latitude</th>\n",
       "      <th>end station longitude</th>\n",
       "      <th>bikeid</th>\n",
       "      <th>usertype</th>\n",
       "      <th>birth year</th>\n",
       "      <th>gender</th>\n",
       "    </tr>\n",
       "  </thead>\n",
       "  <tbody>\n",
       "    <tr>\n",
       "      <th>0</th>\n",
       "      <td>970</td>\n",
       "      <td>2018-01-01 13:50:57.4340</td>\n",
       "      <td>2018-01-01 14:07:08.1860</td>\n",
       "      <td>72</td>\n",
       "      <td>W 52 St &amp; 11 Ave</td>\n",
       "      <td>40.767272</td>\n",
       "      <td>-73.993929</td>\n",
       "      <td>505</td>\n",
       "      <td>6 Ave &amp; W 33 St</td>\n",
       "      <td>40.749013</td>\n",
       "      <td>-73.988484</td>\n",
       "      <td>31956</td>\n",
       "      <td>Subscriber</td>\n",
       "      <td>1992</td>\n",
       "      <td>1</td>\n",
       "    </tr>\n",
       "    <tr>\n",
       "      <th>1</th>\n",
       "      <td>723</td>\n",
       "      <td>2018-01-01 15:33:30.1820</td>\n",
       "      <td>2018-01-01 15:45:33.3410</td>\n",
       "      <td>72</td>\n",
       "      <td>W 52 St &amp; 11 Ave</td>\n",
       "      <td>40.767272</td>\n",
       "      <td>-73.993929</td>\n",
       "      <td>3255</td>\n",
       "      <td>8 Ave &amp; W 31 St</td>\n",
       "      <td>40.750585</td>\n",
       "      <td>-73.994685</td>\n",
       "      <td>32536</td>\n",
       "      <td>Subscriber</td>\n",
       "      <td>1969</td>\n",
       "      <td>1</td>\n",
       "    </tr>\n",
       "    <tr>\n",
       "      <th>2</th>\n",
       "      <td>496</td>\n",
       "      <td>2018-01-01 15:39:18.3370</td>\n",
       "      <td>2018-01-01 15:47:35.1720</td>\n",
       "      <td>72</td>\n",
       "      <td>W 52 St &amp; 11 Ave</td>\n",
       "      <td>40.767272</td>\n",
       "      <td>-73.993929</td>\n",
       "      <td>525</td>\n",
       "      <td>W 34 St &amp; 11 Ave</td>\n",
       "      <td>40.755942</td>\n",
       "      <td>-74.002116</td>\n",
       "      <td>16069</td>\n",
       "      <td>Subscriber</td>\n",
       "      <td>1956</td>\n",
       "      <td>1</td>\n",
       "    </tr>\n",
       "    <tr>\n",
       "      <th>3</th>\n",
       "      <td>306</td>\n",
       "      <td>2018-01-01 15:40:13.3720</td>\n",
       "      <td>2018-01-01 15:45:20.1910</td>\n",
       "      <td>72</td>\n",
       "      <td>W 52 St &amp; 11 Ave</td>\n",
       "      <td>40.767272</td>\n",
       "      <td>-73.993929</td>\n",
       "      <td>447</td>\n",
       "      <td>8 Ave &amp; W 52 St</td>\n",
       "      <td>40.763707</td>\n",
       "      <td>-73.985162</td>\n",
       "      <td>31781</td>\n",
       "      <td>Subscriber</td>\n",
       "      <td>1974</td>\n",
       "      <td>1</td>\n",
       "    </tr>\n",
       "    <tr>\n",
       "      <th>4</th>\n",
       "      <td>306</td>\n",
       "      <td>2018-01-01 18:14:51.5680</td>\n",
       "      <td>2018-01-01 18:19:57.6420</td>\n",
       "      <td>72</td>\n",
       "      <td>W 52 St &amp; 11 Ave</td>\n",
       "      <td>40.767272</td>\n",
       "      <td>-73.993929</td>\n",
       "      <td>3356</td>\n",
       "      <td>Amsterdam Ave &amp; W 66 St</td>\n",
       "      <td>40.774667</td>\n",
       "      <td>-73.984706</td>\n",
       "      <td>30319</td>\n",
       "      <td>Subscriber</td>\n",
       "      <td>1992</td>\n",
       "      <td>1</td>\n",
       "    </tr>\n",
       "  </tbody>\n",
       "</table>\n",
       "</div>"
      ],
      "text/plain": [
       "   tripduration                 starttime                  stoptime  \\\n",
       "0           970  2018-01-01 13:50:57.4340  2018-01-01 14:07:08.1860   \n",
       "1           723  2018-01-01 15:33:30.1820  2018-01-01 15:45:33.3410   \n",
       "2           496  2018-01-01 15:39:18.3370  2018-01-01 15:47:35.1720   \n",
       "3           306  2018-01-01 15:40:13.3720  2018-01-01 15:45:20.1910   \n",
       "4           306  2018-01-01 18:14:51.5680  2018-01-01 18:19:57.6420   \n",
       "\n",
       "   start station id start station name  start station latitude  \\\n",
       "0                72   W 52 St & 11 Ave               40.767272   \n",
       "1                72   W 52 St & 11 Ave               40.767272   \n",
       "2                72   W 52 St & 11 Ave               40.767272   \n",
       "3                72   W 52 St & 11 Ave               40.767272   \n",
       "4                72   W 52 St & 11 Ave               40.767272   \n",
       "\n",
       "   start station longitude  end station id         end station name  \\\n",
       "0               -73.993929             505          6 Ave & W 33 St   \n",
       "1               -73.993929            3255          8 Ave & W 31 St   \n",
       "2               -73.993929             525         W 34 St & 11 Ave   \n",
       "3               -73.993929             447          8 Ave & W 52 St   \n",
       "4               -73.993929            3356  Amsterdam Ave & W 66 St   \n",
       "\n",
       "   end station latitude  end station longitude  bikeid    usertype  \\\n",
       "0             40.749013             -73.988484   31956  Subscriber   \n",
       "1             40.750585             -73.994685   32536  Subscriber   \n",
       "2             40.755942             -74.002116   16069  Subscriber   \n",
       "3             40.763707             -73.985162   31781  Subscriber   \n",
       "4             40.774667             -73.984706   30319  Subscriber   \n",
       "\n",
       "   birth year  gender  \n",
       "0        1992       1  \n",
       "1        1969       1  \n",
       "2        1956       1  \n",
       "3        1974       1  \n",
       "4        1992       1  "
      ]
     },
     "execution_count": 2,
     "metadata": {},
     "output_type": "execute_result"
    }
   ],
   "source": [
    "#Grab the data for winder 2018\n",
    "winter_df_list = []\n",
    "\n",
    "for el in ['01','02','03']:\n",
    "    winter_df_list.append(pd.read_csv('../data/NYC/2018/2018{}-citibike-tripdata/2018{}-citibike-tripdata.csv'.format(el,el)))\n",
    "\n",
    "winter_df_list[0].head()"
   ]
  },
  {
   "cell_type": "code",
   "execution_count": 5,
   "metadata": {},
   "outputs": [
    {
     "data": {
      "text/html": [
       "<div>\n",
       "<style scoped>\n",
       "    .dataframe tbody tr th:only-of-type {\n",
       "        vertical-align: middle;\n",
       "    }\n",
       "\n",
       "    .dataframe tbody tr th {\n",
       "        vertical-align: top;\n",
       "    }\n",
       "\n",
       "    .dataframe thead th {\n",
       "        text-align: right;\n",
       "    }\n",
       "</style>\n",
       "<table border=\"1\" class=\"dataframe\">\n",
       "  <thead>\n",
       "    <tr style=\"text-align: right;\">\n",
       "      <th></th>\n",
       "      <th>tripduration</th>\n",
       "      <th>starttime</th>\n",
       "      <th>stoptime</th>\n",
       "      <th>start station id</th>\n",
       "      <th>start station name</th>\n",
       "      <th>start station latitude</th>\n",
       "      <th>start station longitude</th>\n",
       "      <th>end station id</th>\n",
       "      <th>end station name</th>\n",
       "      <th>end station latitude</th>\n",
       "      <th>end station longitude</th>\n",
       "      <th>bikeid</th>\n",
       "      <th>usertype</th>\n",
       "      <th>birth year</th>\n",
       "      <th>gender</th>\n",
       "    </tr>\n",
       "  </thead>\n",
       "  <tbody>\n",
       "    <tr>\n",
       "      <th>0</th>\n",
       "      <td>970</td>\n",
       "      <td>2018-01-01 13:50:57.4340</td>\n",
       "      <td>2018-01-01 14:07:08.1860</td>\n",
       "      <td>72</td>\n",
       "      <td>W 52 St &amp; 11 Ave</td>\n",
       "      <td>40.767272</td>\n",
       "      <td>-73.993929</td>\n",
       "      <td>505</td>\n",
       "      <td>6 Ave &amp; W 33 St</td>\n",
       "      <td>40.749013</td>\n",
       "      <td>-73.988484</td>\n",
       "      <td>31956</td>\n",
       "      <td>Subscriber</td>\n",
       "      <td>1992</td>\n",
       "      <td>1</td>\n",
       "    </tr>\n",
       "    <tr>\n",
       "      <th>1</th>\n",
       "      <td>723</td>\n",
       "      <td>2018-01-01 15:33:30.1820</td>\n",
       "      <td>2018-01-01 15:45:33.3410</td>\n",
       "      <td>72</td>\n",
       "      <td>W 52 St &amp; 11 Ave</td>\n",
       "      <td>40.767272</td>\n",
       "      <td>-73.993929</td>\n",
       "      <td>3255</td>\n",
       "      <td>8 Ave &amp; W 31 St</td>\n",
       "      <td>40.750585</td>\n",
       "      <td>-73.994685</td>\n",
       "      <td>32536</td>\n",
       "      <td>Subscriber</td>\n",
       "      <td>1969</td>\n",
       "      <td>1</td>\n",
       "    </tr>\n",
       "    <tr>\n",
       "      <th>2</th>\n",
       "      <td>496</td>\n",
       "      <td>2018-01-01 15:39:18.3370</td>\n",
       "      <td>2018-01-01 15:47:35.1720</td>\n",
       "      <td>72</td>\n",
       "      <td>W 52 St &amp; 11 Ave</td>\n",
       "      <td>40.767272</td>\n",
       "      <td>-73.993929</td>\n",
       "      <td>525</td>\n",
       "      <td>W 34 St &amp; 11 Ave</td>\n",
       "      <td>40.755942</td>\n",
       "      <td>-74.002116</td>\n",
       "      <td>16069</td>\n",
       "      <td>Subscriber</td>\n",
       "      <td>1956</td>\n",
       "      <td>1</td>\n",
       "    </tr>\n",
       "    <tr>\n",
       "      <th>3</th>\n",
       "      <td>306</td>\n",
       "      <td>2018-01-01 15:40:13.3720</td>\n",
       "      <td>2018-01-01 15:45:20.1910</td>\n",
       "      <td>72</td>\n",
       "      <td>W 52 St &amp; 11 Ave</td>\n",
       "      <td>40.767272</td>\n",
       "      <td>-73.993929</td>\n",
       "      <td>447</td>\n",
       "      <td>8 Ave &amp; W 52 St</td>\n",
       "      <td>40.763707</td>\n",
       "      <td>-73.985162</td>\n",
       "      <td>31781</td>\n",
       "      <td>Subscriber</td>\n",
       "      <td>1974</td>\n",
       "      <td>1</td>\n",
       "    </tr>\n",
       "    <tr>\n",
       "      <th>4</th>\n",
       "      <td>306</td>\n",
       "      <td>2018-01-01 18:14:51.5680</td>\n",
       "      <td>2018-01-01 18:19:57.6420</td>\n",
       "      <td>72</td>\n",
       "      <td>W 52 St &amp; 11 Ave</td>\n",
       "      <td>40.767272</td>\n",
       "      <td>-73.993929</td>\n",
       "      <td>3356</td>\n",
       "      <td>Amsterdam Ave &amp; W 66 St</td>\n",
       "      <td>40.774667</td>\n",
       "      <td>-73.984706</td>\n",
       "      <td>30319</td>\n",
       "      <td>Subscriber</td>\n",
       "      <td>1992</td>\n",
       "      <td>1</td>\n",
       "    </tr>\n",
       "  </tbody>\n",
       "</table>\n",
       "</div>"
      ],
      "text/plain": [
       "   tripduration                 starttime                  stoptime  \\\n",
       "0           970  2018-01-01 13:50:57.4340  2018-01-01 14:07:08.1860   \n",
       "1           723  2018-01-01 15:33:30.1820  2018-01-01 15:45:33.3410   \n",
       "2           496  2018-01-01 15:39:18.3370  2018-01-01 15:47:35.1720   \n",
       "3           306  2018-01-01 15:40:13.3720  2018-01-01 15:45:20.1910   \n",
       "4           306  2018-01-01 18:14:51.5680  2018-01-01 18:19:57.6420   \n",
       "\n",
       "   start station id start station name  start station latitude  \\\n",
       "0                72   W 52 St & 11 Ave               40.767272   \n",
       "1                72   W 52 St & 11 Ave               40.767272   \n",
       "2                72   W 52 St & 11 Ave               40.767272   \n",
       "3                72   W 52 St & 11 Ave               40.767272   \n",
       "4                72   W 52 St & 11 Ave               40.767272   \n",
       "\n",
       "   start station longitude  end station id         end station name  \\\n",
       "0               -73.993929             505          6 Ave & W 33 St   \n",
       "1               -73.993929            3255          8 Ave & W 31 St   \n",
       "2               -73.993929             525         W 34 St & 11 Ave   \n",
       "3               -73.993929             447          8 Ave & W 52 St   \n",
       "4               -73.993929            3356  Amsterdam Ave & W 66 St   \n",
       "\n",
       "   end station latitude  end station longitude  bikeid    usertype  \\\n",
       "0             40.749013             -73.988484   31956  Subscriber   \n",
       "1             40.750585             -73.994685   32536  Subscriber   \n",
       "2             40.755942             -74.002116   16069  Subscriber   \n",
       "3             40.763707             -73.985162   31781  Subscriber   \n",
       "4             40.774667             -73.984706   30319  Subscriber   \n",
       "\n",
       "   birth year  gender  \n",
       "0        1992       1  \n",
       "1        1969       1  \n",
       "2        1956       1  \n",
       "3        1974       1  \n",
       "4        1992       1  "
      ]
     },
     "execution_count": 5,
     "metadata": {},
     "output_type": "execute_result"
    }
   ],
   "source": [
    "#Concat them all together into one dataframe\n",
    "winter_df = pd.concat(winter_df_list,ignore_index=True)\n",
    "winter_df.head()"
   ]
  },
  {
   "cell_type": "code",
   "execution_count": 6,
   "metadata": {},
   "outputs": [
    {
     "data": {
      "text/html": [
       "<div>\n",
       "<style scoped>\n",
       "    .dataframe tbody tr th:only-of-type {\n",
       "        vertical-align: middle;\n",
       "    }\n",
       "\n",
       "    .dataframe tbody tr th {\n",
       "        vertical-align: top;\n",
       "    }\n",
       "\n",
       "    .dataframe thead th {\n",
       "        text-align: right;\n",
       "    }\n",
       "</style>\n",
       "<table border=\"1\" class=\"dataframe\">\n",
       "  <thead>\n",
       "    <tr style=\"text-align: right;\">\n",
       "      <th></th>\n",
       "      <th>tripduration</th>\n",
       "      <th>start station id</th>\n",
       "      <th>start station latitude</th>\n",
       "      <th>start station longitude</th>\n",
       "      <th>end station id</th>\n",
       "      <th>end station latitude</th>\n",
       "      <th>end station longitude</th>\n",
       "      <th>bikeid</th>\n",
       "      <th>birth year</th>\n",
       "      <th>gender</th>\n",
       "    </tr>\n",
       "  </thead>\n",
       "  <tbody>\n",
       "    <tr>\n",
       "      <th>count</th>\n",
       "      <td>2.538780e+06</td>\n",
       "      <td>2.538780e+06</td>\n",
       "      <td>2.538780e+06</td>\n",
       "      <td>2.538780e+06</td>\n",
       "      <td>2.538780e+06</td>\n",
       "      <td>2.538780e+06</td>\n",
       "      <td>2.538780e+06</td>\n",
       "      <td>2.538780e+06</td>\n",
       "      <td>2.538780e+06</td>\n",
       "      <td>2.538780e+06</td>\n",
       "    </tr>\n",
       "    <tr>\n",
       "      <th>mean</th>\n",
       "      <td>8.648393e+02</td>\n",
       "      <td>1.483742e+03</td>\n",
       "      <td>4.073769e+01</td>\n",
       "      <td>-7.398306e+01</td>\n",
       "      <td>1.473223e+03</td>\n",
       "      <td>4.073737e+01</td>\n",
       "      <td>-7.398335e+01</td>\n",
       "      <td>2.618555e+04</td>\n",
       "      <td>1.977943e+03</td>\n",
       "      <td>1.163310e+00</td>\n",
       "    </tr>\n",
       "    <tr>\n",
       "      <th>std</th>\n",
       "      <td>3.123193e+04</td>\n",
       "      <td>1.406269e+03</td>\n",
       "      <td>3.700593e-02</td>\n",
       "      <td>1.810140e-02</td>\n",
       "      <td>1.403815e+03</td>\n",
       "      <td>3.676187e-02</td>\n",
       "      <td>1.816684e-02</td>\n",
       "      <td>6.217588e+03</td>\n",
       "      <td>1.209395e+01</td>\n",
       "      <td>4.898546e-01</td>\n",
       "    </tr>\n",
       "    <tr>\n",
       "      <th>min</th>\n",
       "      <td>6.100000e+01</td>\n",
       "      <td>7.200000e+01</td>\n",
       "      <td>4.064654e+01</td>\n",
       "      <td>-7.401713e+01</td>\n",
       "      <td>7.200000e+01</td>\n",
       "      <td>4.064654e+01</td>\n",
       "      <td>-7.405570e+01</td>\n",
       "      <td>1.452900e+04</td>\n",
       "      <td>1.885000e+03</td>\n",
       "      <td>0.000000e+00</td>\n",
       "    </tr>\n",
       "    <tr>\n",
       "      <th>25%</th>\n",
       "      <td>3.210000e+02</td>\n",
       "      <td>3.770000e+02</td>\n",
       "      <td>4.071901e+01</td>\n",
       "      <td>-7.399468e+01</td>\n",
       "      <td>3.690000e+02</td>\n",
       "      <td>4.071901e+01</td>\n",
       "      <td>-7.399490e+01</td>\n",
       "      <td>1.980600e+04</td>\n",
       "      <td>1.969000e+03</td>\n",
       "      <td>1.000000e+00</td>\n",
       "    </tr>\n",
       "    <tr>\n",
       "      <th>50%</th>\n",
       "      <td>5.210000e+02</td>\n",
       "      <td>4.980000e+02</td>\n",
       "      <td>4.073932e+01</td>\n",
       "      <td>-7.398584e+01</td>\n",
       "      <td>4.970000e+02</td>\n",
       "      <td>4.073913e+01</td>\n",
       "      <td>-7.398658e+01</td>\n",
       "      <td>2.841800e+04</td>\n",
       "      <td>1.980000e+03</td>\n",
       "      <td>1.000000e+00</td>\n",
       "    </tr>\n",
       "    <tr>\n",
       "      <th>75%</th>\n",
       "      <td>8.750000e+02</td>\n",
       "      <td>3.173000e+03</td>\n",
       "      <td>4.075669e+01</td>\n",
       "      <td>-7.397484e+01</td>\n",
       "      <td>3.172000e+03</td>\n",
       "      <td>4.075641e+01</td>\n",
       "      <td>-7.397520e+01</td>\n",
       "      <td>3.155300e+04</td>\n",
       "      <td>1.988000e+03</td>\n",
       "      <td>1.000000e+00</td>\n",
       "    </tr>\n",
       "    <tr>\n",
       "      <th>max</th>\n",
       "      <td>1.951005e+07</td>\n",
       "      <td>3.674000e+03</td>\n",
       "      <td>4.550636e+01</td>\n",
       "      <td>-7.356891e+01</td>\n",
       "      <td>3.674000e+03</td>\n",
       "      <td>4.550636e+01</td>\n",
       "      <td>-7.356891e+01</td>\n",
       "      <td>3.355100e+04</td>\n",
       "      <td>2.002000e+03</td>\n",
       "      <td>2.000000e+00</td>\n",
       "    </tr>\n",
       "  </tbody>\n",
       "</table>\n",
       "</div>"
      ],
      "text/plain": [
       "       tripduration  start station id  start station latitude  \\\n",
       "count  2.538780e+06      2.538780e+06            2.538780e+06   \n",
       "mean   8.648393e+02      1.483742e+03            4.073769e+01   \n",
       "std    3.123193e+04      1.406269e+03            3.700593e-02   \n",
       "min    6.100000e+01      7.200000e+01            4.064654e+01   \n",
       "25%    3.210000e+02      3.770000e+02            4.071901e+01   \n",
       "50%    5.210000e+02      4.980000e+02            4.073932e+01   \n",
       "75%    8.750000e+02      3.173000e+03            4.075669e+01   \n",
       "max    1.951005e+07      3.674000e+03            4.550636e+01   \n",
       "\n",
       "       start station longitude  end station id  end station latitude  \\\n",
       "count             2.538780e+06    2.538780e+06          2.538780e+06   \n",
       "mean             -7.398306e+01    1.473223e+03          4.073737e+01   \n",
       "std               1.810140e-02    1.403815e+03          3.676187e-02   \n",
       "min              -7.401713e+01    7.200000e+01          4.064654e+01   \n",
       "25%              -7.399468e+01    3.690000e+02          4.071901e+01   \n",
       "50%              -7.398584e+01    4.970000e+02          4.073913e+01   \n",
       "75%              -7.397484e+01    3.172000e+03          4.075641e+01   \n",
       "max              -7.356891e+01    3.674000e+03          4.550636e+01   \n",
       "\n",
       "       end station longitude        bikeid    birth year        gender  \n",
       "count           2.538780e+06  2.538780e+06  2.538780e+06  2.538780e+06  \n",
       "mean           -7.398335e+01  2.618555e+04  1.977943e+03  1.163310e+00  \n",
       "std             1.816684e-02  6.217588e+03  1.209395e+01  4.898546e-01  \n",
       "min            -7.405570e+01  1.452900e+04  1.885000e+03  0.000000e+00  \n",
       "25%            -7.399490e+01  1.980600e+04  1.969000e+03  1.000000e+00  \n",
       "50%            -7.398658e+01  2.841800e+04  1.980000e+03  1.000000e+00  \n",
       "75%            -7.397520e+01  3.155300e+04  1.988000e+03  1.000000e+00  \n",
       "max            -7.356891e+01  3.355100e+04  2.002000e+03  2.000000e+00  "
      ]
     },
     "execution_count": 6,
     "metadata": {},
     "output_type": "execute_result"
    }
   ],
   "source": [
    "winter_df.describe()"
   ]
  },
  {
   "cell_type": "code",
   "execution_count": 20,
   "metadata": {},
   "outputs": [],
   "source": [
    "#Number of weekend days and weekday days for Jan - March 2018\n",
    "num_WE = 25\n",
    "num_WD = 31+28+31-num_WE #Note I'm not subtracting holidays here, maybe later..."
   ]
  },
  {
   "cell_type": "markdown",
   "metadata": {},
   "source": [
    "The next few cells use the functions in `bike_share_functions.py` to clean the bike data and assemble an independent station dataframe and export pickled versions of the various dataframes.\n",
    "\n",
    "In particular, `bike_clean_df` does the f non-subscribers, \n"
   ]
  },
  {
   "cell_type": "code",
   "execution_count": 22,
   "metadata": {},
   "outputs": [],
   "source": [
    "import sys\n",
    "sys.path.append('../')\n",
    "\n",
    "from bike_share_functions import bike_clean_df\n",
    "\n",
    "subs_df = bike_clean_df(winter_df)"
   ]
  },
  {
   "cell_type": "code",
   "execution_count": 23,
   "metadata": {},
   "outputs": [
    {
     "name": "stdout",
     "output_type": "stream",
     "text": [
      "777\n"
     ]
    },
    {
     "data": {
      "text/html": [
       "<div>\n",
       "<style scoped>\n",
       "    .dataframe tbody tr th:only-of-type {\n",
       "        vertical-align: middle;\n",
       "    }\n",
       "\n",
       "    .dataframe tbody tr th {\n",
       "        vertical-align: top;\n",
       "    }\n",
       "\n",
       "    .dataframe thead th {\n",
       "        text-align: right;\n",
       "    }\n",
       "</style>\n",
       "<table border=\"1\" class=\"dataframe\">\n",
       "  <thead>\n",
       "    <tr style=\"text-align: right;\">\n",
       "      <th></th>\n",
       "      <th>lat</th>\n",
       "      <th>lon</th>\n",
       "      <th>station name</th>\n",
       "    </tr>\n",
       "  </thead>\n",
       "  <tbody>\n",
       "    <tr>\n",
       "      <th>72</th>\n",
       "      <td>40.767272</td>\n",
       "      <td>-73.993929</td>\n",
       "      <td>W 52 St &amp; 11 Ave</td>\n",
       "    </tr>\n",
       "    <tr>\n",
       "      <th>79</th>\n",
       "      <td>40.719116</td>\n",
       "      <td>-74.006667</td>\n",
       "      <td>Franklin St &amp; W Broadway</td>\n",
       "    </tr>\n",
       "    <tr>\n",
       "      <th>82</th>\n",
       "      <td>40.711174</td>\n",
       "      <td>-74.000165</td>\n",
       "      <td>St James Pl &amp; Pearl St</td>\n",
       "    </tr>\n",
       "    <tr>\n",
       "      <th>83</th>\n",
       "      <td>40.683826</td>\n",
       "      <td>-73.976323</td>\n",
       "      <td>Atlantic Ave &amp; Fort Greene Pl</td>\n",
       "    </tr>\n",
       "    <tr>\n",
       "      <th>119</th>\n",
       "      <td>40.696089</td>\n",
       "      <td>-73.978034</td>\n",
       "      <td>Park Ave &amp; St Edwards St</td>\n",
       "    </tr>\n",
       "  </tbody>\n",
       "</table>\n",
       "</div>"
      ],
      "text/plain": [
       "           lat        lon                   station name\n",
       "72   40.767272 -73.993929               W 52 St & 11 Ave\n",
       "79   40.719116 -74.006667       Franklin St & W Broadway\n",
       "82   40.711174 -74.000165         St James Pl & Pearl St\n",
       "83   40.683826 -73.976323  Atlantic Ave & Fort Greene Pl\n",
       "119  40.696089 -73.978034       Park Ave & St Edwards St"
      ]
     },
     "execution_count": 23,
     "metadata": {},
     "output_type": "execute_result"
    }
   ],
   "source": [
    "from bike_share_functions import get_stations_info\n",
    "\n",
    "stations_info_df = get_stations_info(subs_df)\n",
    "print(len(stations_info_df)) # get the number of stations\n",
    "stations_info_df.head()\n"
   ]
  },
  {
   "cell_type": "code",
   "execution_count": 24,
   "metadata": {},
   "outputs": [
    {
     "data": {
      "text/html": [
       "<div>\n",
       "<style scoped>\n",
       "    .dataframe tbody tr th:only-of-type {\n",
       "        vertical-align: middle;\n",
       "    }\n",
       "\n",
       "    .dataframe tbody tr th {\n",
       "        vertical-align: top;\n",
       "    }\n",
       "\n",
       "    .dataframe thead th {\n",
       "        text-align: right;\n",
       "    }\n",
       "</style>\n",
       "<table border=\"1\" class=\"dataframe\">\n",
       "  <thead>\n",
       "    <tr style=\"text-align: right;\">\n",
       "      <th></th>\n",
       "      <th>tripduration</th>\n",
       "      <th>starttime</th>\n",
       "      <th>stoptime</th>\n",
       "      <th>start station id</th>\n",
       "      <th>end station id</th>\n",
       "      <th>bikeid</th>\n",
       "      <th>usertype</th>\n",
       "      <th>birth year</th>\n",
       "      <th>gender</th>\n",
       "      <th>start_day</th>\n",
       "      <th>stop_day</th>\n",
       "      <th>pickup_hour</th>\n",
       "      <th>dropoff_hour</th>\n",
       "      <th>age</th>\n",
       "      <th>Trip_Type</th>\n",
       "      <th>start_end_station</th>\n",
       "    </tr>\n",
       "  </thead>\n",
       "  <tbody>\n",
       "    <tr>\n",
       "      <th>0</th>\n",
       "      <td>970</td>\n",
       "      <td>2018-01-01 13:50:57.434</td>\n",
       "      <td>2018-01-01 14:07:08.186</td>\n",
       "      <td>72</td>\n",
       "      <td>505</td>\n",
       "      <td>31956</td>\n",
       "      <td>Subscriber</td>\n",
       "      <td>1992</td>\n",
       "      <td>1</td>\n",
       "      <td>0</td>\n",
       "      <td>0</td>\n",
       "      <td>13</td>\n",
       "      <td>14</td>\n",
       "      <td>26</td>\n",
       "      <td>Daytime Errand</td>\n",
       "      <td>(72, 505)</td>\n",
       "    </tr>\n",
       "    <tr>\n",
       "      <th>1</th>\n",
       "      <td>723</td>\n",
       "      <td>2018-01-01 15:33:30.182</td>\n",
       "      <td>2018-01-01 15:45:33.341</td>\n",
       "      <td>72</td>\n",
       "      <td>3255</td>\n",
       "      <td>32536</td>\n",
       "      <td>Subscriber</td>\n",
       "      <td>1969</td>\n",
       "      <td>1</td>\n",
       "      <td>0</td>\n",
       "      <td>0</td>\n",
       "      <td>15</td>\n",
       "      <td>15</td>\n",
       "      <td>49</td>\n",
       "      <td>Daytime Errand</td>\n",
       "      <td>(72, 3255)</td>\n",
       "    </tr>\n",
       "    <tr>\n",
       "      <th>2</th>\n",
       "      <td>496</td>\n",
       "      <td>2018-01-01 15:39:18.337</td>\n",
       "      <td>2018-01-01 15:47:35.172</td>\n",
       "      <td>72</td>\n",
       "      <td>525</td>\n",
       "      <td>16069</td>\n",
       "      <td>Subscriber</td>\n",
       "      <td>1956</td>\n",
       "      <td>1</td>\n",
       "      <td>0</td>\n",
       "      <td>0</td>\n",
       "      <td>15</td>\n",
       "      <td>15</td>\n",
       "      <td>62</td>\n",
       "      <td>Daytime Errand</td>\n",
       "      <td>(72, 525)</td>\n",
       "    </tr>\n",
       "    <tr>\n",
       "      <th>3</th>\n",
       "      <td>306</td>\n",
       "      <td>2018-01-01 15:40:13.372</td>\n",
       "      <td>2018-01-01 15:45:20.191</td>\n",
       "      <td>72</td>\n",
       "      <td>447</td>\n",
       "      <td>31781</td>\n",
       "      <td>Subscriber</td>\n",
       "      <td>1974</td>\n",
       "      <td>1</td>\n",
       "      <td>0</td>\n",
       "      <td>0</td>\n",
       "      <td>15</td>\n",
       "      <td>15</td>\n",
       "      <td>44</td>\n",
       "      <td>Daytime Errand</td>\n",
       "      <td>(72, 447)</td>\n",
       "    </tr>\n",
       "    <tr>\n",
       "      <th>4</th>\n",
       "      <td>306</td>\n",
       "      <td>2018-01-01 18:14:51.568</td>\n",
       "      <td>2018-01-01 18:19:57.642</td>\n",
       "      <td>72</td>\n",
       "      <td>3356</td>\n",
       "      <td>30319</td>\n",
       "      <td>Subscriber</td>\n",
       "      <td>1992</td>\n",
       "      <td>1</td>\n",
       "      <td>0</td>\n",
       "      <td>0</td>\n",
       "      <td>18</td>\n",
       "      <td>18</td>\n",
       "      <td>26</td>\n",
       "      <td>Commuter</td>\n",
       "      <td>(72, 3356)</td>\n",
       "    </tr>\n",
       "  </tbody>\n",
       "</table>\n",
       "</div>"
      ],
      "text/plain": [
       "   tripduration               starttime                stoptime  \\\n",
       "0           970 2018-01-01 13:50:57.434 2018-01-01 14:07:08.186   \n",
       "1           723 2018-01-01 15:33:30.182 2018-01-01 15:45:33.341   \n",
       "2           496 2018-01-01 15:39:18.337 2018-01-01 15:47:35.172   \n",
       "3           306 2018-01-01 15:40:13.372 2018-01-01 15:45:20.191   \n",
       "4           306 2018-01-01 18:14:51.568 2018-01-01 18:19:57.642   \n",
       "\n",
       "   start station id  end station id  bikeid    usertype  birth year  gender  \\\n",
       "0                72             505   31956  Subscriber        1992       1   \n",
       "1                72            3255   32536  Subscriber        1969       1   \n",
       "2                72             525   16069  Subscriber        1956       1   \n",
       "3                72             447   31781  Subscriber        1974       1   \n",
       "4                72            3356   30319  Subscriber        1992       1   \n",
       "\n",
       "   start_day  stop_day  pickup_hour  dropoff_hour  age       Trip_Type  \\\n",
       "0          0         0           13            14   26  Daytime Errand   \n",
       "1          0         0           15            15   49  Daytime Errand   \n",
       "2          0         0           15            15   62  Daytime Errand   \n",
       "3          0         0           15            15   44  Daytime Errand   \n",
       "4          0         0           18            18   26        Commuter   \n",
       "\n",
       "  start_end_station  \n",
       "0         (72, 505)  \n",
       "1        (72, 3255)  \n",
       "2         (72, 525)  \n",
       "3         (72, 447)  \n",
       "4        (72, 3356)  "
      ]
     },
     "execution_count": 24,
     "metadata": {},
     "output_type": "execute_result"
    }
   ],
   "source": [
    "from bike_share_functions import get_trip_info\n",
    "\n",
    "subs_trips_df = get_trip_info(subs_df)\n",
    "\n",
    "subs_trips_df.head()"
   ]
  },
  {
   "cell_type": "code",
   "execution_count": 8,
   "metadata": {},
   "outputs": [],
   "source": [
    "#Export the results as pickled dateframes for use in other analyses \n",
    "subs_df.to_pickle('../data/pickledDFs/subs_df-NYC_Winter_2018.pkl')\n",
    "stations_info_df.to_pickle('../data/pickledDFs/stations_info_df-NYC_Winter_2018.pkl')\n",
    "subs_trips_df.to_pickle('../data/pickledDFs/subs_trips_df-NYC_Winter_2018.pkl')"
   ]
  },
  {
   "cell_type": "code",
   "execution_count": null,
   "metadata": {
    "scrolled": true
   },
   "outputs": [],
   "source": []
  },
  {
   "cell_type": "code",
   "execution_count": 25,
   "metadata": {},
   "outputs": [],
   "source": [
    "#Separate out the weekday and weekend trips\n",
    "weekday_subs_trips_df = subs_trips_df[subs_trips_df['Trip_Type'] != 'Weekend'].copy()\n",
    "weekend_subs_trips_df = subs_trips_df[subs_trips_df['Trip_Type'] == 'Weekend'].copy()"
   ]
  },
  {
   "cell_type": "code",
   "execution_count": 26,
   "metadata": {},
   "outputs": [
    {
     "data": {
      "text/html": [
       "<div>\n",
       "<style scoped>\n",
       "    .dataframe tbody tr th:only-of-type {\n",
       "        vertical-align: middle;\n",
       "    }\n",
       "\n",
       "    .dataframe tbody tr th {\n",
       "        vertical-align: top;\n",
       "    }\n",
       "\n",
       "    .dataframe thead th {\n",
       "        text-align: right;\n",
       "    }\n",
       "</style>\n",
       "<table border=\"1\" class=\"dataframe\">\n",
       "  <thead>\n",
       "    <tr style=\"text-align: right;\">\n",
       "      <th></th>\n",
       "      <th>tripduration</th>\n",
       "      <th>starttime</th>\n",
       "      <th>stoptime</th>\n",
       "      <th>start station id</th>\n",
       "      <th>end station id</th>\n",
       "      <th>bikeid</th>\n",
       "      <th>usertype</th>\n",
       "      <th>birth year</th>\n",
       "      <th>gender</th>\n",
       "      <th>start_day</th>\n",
       "      <th>stop_day</th>\n",
       "      <th>pickup_hour</th>\n",
       "      <th>dropoff_hour</th>\n",
       "      <th>age</th>\n",
       "      <th>Trip_Type</th>\n",
       "      <th>start_end_station</th>\n",
       "    </tr>\n",
       "  </thead>\n",
       "  <tbody>\n",
       "    <tr>\n",
       "      <th>116</th>\n",
       "      <td>1347</td>\n",
       "      <td>2018-01-06 11:12:20.973</td>\n",
       "      <td>2018-01-06 11:34:48.773</td>\n",
       "      <td>72</td>\n",
       "      <td>382</td>\n",
       "      <td>18783</td>\n",
       "      <td>Subscriber</td>\n",
       "      <td>1968</td>\n",
       "      <td>1</td>\n",
       "      <td>5</td>\n",
       "      <td>5</td>\n",
       "      <td>11</td>\n",
       "      <td>11</td>\n",
       "      <td>50</td>\n",
       "      <td>Weekend</td>\n",
       "      <td>(72, 382)</td>\n",
       "    </tr>\n",
       "    <tr>\n",
       "      <th>117</th>\n",
       "      <td>471</td>\n",
       "      <td>2018-01-06 11:43:53.488</td>\n",
       "      <td>2018-01-06 11:51:44.696</td>\n",
       "      <td>72</td>\n",
       "      <td>479</td>\n",
       "      <td>25288</td>\n",
       "      <td>Subscriber</td>\n",
       "      <td>1992</td>\n",
       "      <td>1</td>\n",
       "      <td>5</td>\n",
       "      <td>5</td>\n",
       "      <td>11</td>\n",
       "      <td>11</td>\n",
       "      <td>26</td>\n",
       "      <td>Weekend</td>\n",
       "      <td>(72, 479)</td>\n",
       "    </tr>\n",
       "    <tr>\n",
       "      <th>118</th>\n",
       "      <td>304</td>\n",
       "      <td>2018-01-06 17:15:05.323</td>\n",
       "      <td>2018-01-06 17:20:09.783</td>\n",
       "      <td>72</td>\n",
       "      <td>515</td>\n",
       "      <td>32352</td>\n",
       "      <td>Subscriber</td>\n",
       "      <td>1974</td>\n",
       "      <td>1</td>\n",
       "      <td>5</td>\n",
       "      <td>5</td>\n",
       "      <td>17</td>\n",
       "      <td>17</td>\n",
       "      <td>44</td>\n",
       "      <td>Weekend</td>\n",
       "      <td>(72, 515)</td>\n",
       "    </tr>\n",
       "    <tr>\n",
       "      <th>119</th>\n",
       "      <td>374</td>\n",
       "      <td>2018-01-07 12:42:24.651</td>\n",
       "      <td>2018-01-07 12:48:38.807</td>\n",
       "      <td>72</td>\n",
       "      <td>450</td>\n",
       "      <td>16988</td>\n",
       "      <td>Subscriber</td>\n",
       "      <td>1983</td>\n",
       "      <td>1</td>\n",
       "      <td>6</td>\n",
       "      <td>6</td>\n",
       "      <td>12</td>\n",
       "      <td>12</td>\n",
       "      <td>35</td>\n",
       "      <td>Weekend</td>\n",
       "      <td>(72, 450)</td>\n",
       "    </tr>\n",
       "    <tr>\n",
       "      <th>120</th>\n",
       "      <td>334</td>\n",
       "      <td>2018-01-07 13:48:19.772</td>\n",
       "      <td>2018-01-07 13:53:54.086</td>\n",
       "      <td>72</td>\n",
       "      <td>173</td>\n",
       "      <td>31484</td>\n",
       "      <td>Subscriber</td>\n",
       "      <td>1977</td>\n",
       "      <td>1</td>\n",
       "      <td>6</td>\n",
       "      <td>6</td>\n",
       "      <td>13</td>\n",
       "      <td>13</td>\n",
       "      <td>41</td>\n",
       "      <td>Weekend</td>\n",
       "      <td>(72, 173)</td>\n",
       "    </tr>\n",
       "  </tbody>\n",
       "</table>\n",
       "</div>"
      ],
      "text/plain": [
       "     tripduration               starttime                stoptime  \\\n",
       "116          1347 2018-01-06 11:12:20.973 2018-01-06 11:34:48.773   \n",
       "117           471 2018-01-06 11:43:53.488 2018-01-06 11:51:44.696   \n",
       "118           304 2018-01-06 17:15:05.323 2018-01-06 17:20:09.783   \n",
       "119           374 2018-01-07 12:42:24.651 2018-01-07 12:48:38.807   \n",
       "120           334 2018-01-07 13:48:19.772 2018-01-07 13:53:54.086   \n",
       "\n",
       "     start station id  end station id  bikeid    usertype  birth year  gender  \\\n",
       "116                72             382   18783  Subscriber        1968       1   \n",
       "117                72             479   25288  Subscriber        1992       1   \n",
       "118                72             515   32352  Subscriber        1974       1   \n",
       "119                72             450   16988  Subscriber        1983       1   \n",
       "120                72             173   31484  Subscriber        1977       1   \n",
       "\n",
       "     start_day  stop_day  pickup_hour  dropoff_hour  age Trip_Type  \\\n",
       "116          5         5           11            11   50   Weekend   \n",
       "117          5         5           11            11   26   Weekend   \n",
       "118          5         5           17            17   44   Weekend   \n",
       "119          6         6           12            12   35   Weekend   \n",
       "120          6         6           13            13   41   Weekend   \n",
       "\n",
       "    start_end_station  \n",
       "116         (72, 382)  \n",
       "117         (72, 479)  \n",
       "118         (72, 515)  \n",
       "119         (72, 450)  \n",
       "120         (72, 173)  "
      ]
     },
     "execution_count": 26,
     "metadata": {},
     "output_type": "execute_result"
    }
   ],
   "source": [
    "weekend_subs_trips_df.head()"
   ]
  },
  {
   "cell_type": "code",
   "execution_count": 20,
   "metadata": {},
   "outputs": [],
   "source": []
  },
  {
   "cell_type": "markdown",
   "metadata": {},
   "source": [
    "The following are just simple plots of various aspects of the data"
   ]
  },
  {
   "cell_type": "code",
   "execution_count": 180,
   "metadata": {},
   "outputs": [
    {
     "data": {
      "text/plain": [
       "Text(0.5, 1.0, 'Total Trips per Hour (weekdays)')"
      ]
     },
     "execution_count": 180,
     "metadata": {},
     "output_type": "execute_result"
    },
    {
     "data": {
      "image/png": "[encoded data removed]",
      "text/plain": [
       "<Figure size 432x288 with 1 Axes>"
      ]
     },
     "metadata": {
      "needs_background": "light"
     },
     "output_type": "display_data"
    }
   ],
   "source": [
    "#Total trips (= num pickups) by hour (weekday)\n",
    "fig = plt.figure()\n",
    "ax = fig.gca()\n",
    "\n",
    "total_rides_by_hour = weekday_subs_trips_df.groupby('pickup_hour')['starttime'].count()\n",
    "\n",
    "ax.bar(total_rides_by_hour.index,total_rides_by_hour)\n",
    "ax.set_title('Total Trips per Hour (weekdays)')\n"
   ]
  },
  {
   "cell_type": "code",
   "execution_count": null,
   "metadata": {},
   "outputs": [],
   "source": []
  },
  {
   "cell_type": "code",
   "execution_count": 181,
   "metadata": {},
   "outputs": [
    {
     "data": {
      "text/plain": [
       "Text(0.5, 1.0, 'Total Trips per Hour (weekends)')"
      ]
     },
     "execution_count": 181,
     "metadata": {},
     "output_type": "execute_result"
    },
    {
     "data": {
      "image/png": "[encoded data removed]",
      "text/plain": [
       "<Figure size 432x288 with 1 Axes>"
      ]
     },
     "metadata": {
      "needs_background": "light"
     },
     "output_type": "display_data"
    }
   ],
   "source": [
    "#Total trips by hour (weekend)\n",
    "fig = plt.figure()\n",
    "ax = fig.gca()\n",
    "\n",
    "total_rides_by_hour = weekend_subs_trips_df.groupby('pickup_hour')['starttime'].count()\n",
    "\n",
    "ax.bar(total_rides_by_hour.index,total_rides_by_hour)\n",
    "ax.set_title('Total Trips per Hour (weekends)')"
   ]
  },
  {
   "cell_type": "code",
   "execution_count": 32,
   "metadata": {},
   "outputs": [
    {
     "data": {
      "text/plain": [
       "519"
      ]
     },
     "execution_count": 32,
     "metadata": {},
     "output_type": "execute_result"
    }
   ],
   "source": [
    "max_pu_st"
   ]
  },
  {
   "cell_type": "code",
   "execution_count": 182,
   "metadata": {},
   "outputs": [
    {
     "data": {
      "text/plain": [
       "Text(0.5, 1.0, 'Pickups per hour for top (hourly) weekday station \\n (station #519: Pershing Square North)')"
      ]
     },
     "execution_count": 182,
     "metadata": {},
     "output_type": "execute_result"
    },
    {
     "data": {
      "image/png": "[encoded data removed]",
      "text/plain": [
       "<Figure size 432x288 with 1 Axes>"
      ]
     },
     "metadata": {
      "needs_background": "light"
     },
     "output_type": "display_data"
    }
   ],
   "source": [
    "plt.figure() \n",
    "ax = plt.gca()\n",
    "\n",
    "total_rides_by_hr_st = weekday_subs_trips_df.groupby(['pickup_hour','start station id'])['tripduration'].count()\n",
    "total_rides_by_hr_st = total_rides_by_hr_st.rename('total_trips') \n",
    "\n",
    "max_pu_st = total_rides_by_hr_st.idxmax()[1]\n",
    "\n",
    "top_pu_station = total_rides_by_hr_st.loc[:,max_pu_st]\n",
    "\n",
    "\n",
    "ax.bar(top_pu_station.index,top_pu_station)\n",
    "#ax.set_title('Pickups per hour for top (hourly) station (weekday)')\n",
    "ax.set_title('Pickups per hour for top (hourly) weekday station \\n (station #{}: {})'.format(max_pu_st,stations_info_df.loc[max_pu_st]['station name']))\n",
    "\n",
    "\n",
    "#plt.bar(top_do_station.index,top_do_station)"
   ]
  },
  {
   "cell_type": "code",
   "execution_count": 183,
   "metadata": {},
   "outputs": [
    {
     "data": {
      "text/plain": [
       "Text(0.5, 1.0, 'Pickups per hour for top (hourly) station (weekend) \\n (station #435: W 21 St & 6 Ave)')"
      ]
     },
     "execution_count": 183,
     "metadata": {},
     "output_type": "execute_result"
    },
    {
     "data": {
      "image/png": "[encoded data removed]",
      "text/plain": [
       "<Figure size 432x288 with 1 Axes>"
      ]
     },
     "metadata": {
      "needs_background": "light"
     },
     "output_type": "display_data"
    }
   ],
   "source": [
    "#Hourly pickups for station with max trips in any given hour\n",
    "plt.figure() \n",
    "ax = plt.gca()\n",
    "\n",
    "total_rides_by_hr_st = weekend_subs_trips_df.groupby(['pickup_hour','start station id'])['tripduration'].count()\n",
    "total_rides_by_hr_st = total_rides_by_hr_st.rename('total_trips') \n",
    "\n",
    "max_pu_st = total_rides_by_hr_st.idxmax()[1]\n",
    "\n",
    "top_pu_station = total_rides_by_hr_st.loc[:,max_pu_st]\n",
    "\n",
    "\n",
    "ax.bar(top_pu_station.index,top_pu_station)\n",
    "#ax.set_title('Pickups per hour for top (hourly) weekend station')\n",
    "ax.set_title('Pickups per hour for top (hourly) station (weekend) \\n (station #{}: {})'.format(max_pu_st,stations_info_df.loc[max_pu_st]['station name']))\n",
    "\n",
    "#plt.bar(top_do_station.index,top_do_station)"
   ]
  },
  {
   "cell_type": "code",
   "execution_count": 184,
   "metadata": {},
   "outputs": [
    {
     "data": {
      "text/plain": [
       "Text(0.5, 1.0, 'Average trip duration by hour (weekday)')"
      ]
     },
     "execution_count": 184,
     "metadata": {},
     "output_type": "execute_result"
    },
    {
     "data": {
      "image/png": "[encoded data removed]",
      "text/plain": [
       "<Figure size 432x288 with 1 Axes>"
      ]
     },
     "metadata": {
      "needs_background": "light"
     },
     "output_type": "display_data"
    }
   ],
   "source": [
    "fig = plt.figure()\n",
    "ax = fig.gca()\n",
    "\n",
    "\n",
    "avg_duration_by_hour = weekday_subs_trips_df.groupby('pickup_hour')['tripduration'].mean()\n",
    "\n",
    "total_rides_by_hour = weekday_subs_trips_df.groupby('pickup_hour')['tripduration'].count()\n",
    "yerror = weekday_subs_trips_df.groupby('pickup_hour')['tripduration'].std()/(total_rides_by_hour)**(1/2)\n",
    "\n",
    "ax.bar(avg_duration_by_hour.index,avg_duration_by_hour, yerr=yerror,ecolor = 'orange')\n",
    "ax.set_title('Average trip duration by hour (weekday)')"
   ]
  },
  {
   "cell_type": "code",
   "execution_count": 185,
   "metadata": {},
   "outputs": [
    {
     "data": {
      "text/plain": [
       "Text(0.5, 1.0, 'Average trip duration by hour (weekend)')"
      ]
     },
     "execution_count": 185,
     "metadata": {},
     "output_type": "execute_result"
    },
    {
     "data": {
      "image/png": "[encoded data removed]",
      "text/plain": [
       "<Figure size 432x288 with 1 Axes>"
      ]
     },
     "metadata": {
      "needs_background": "light"
     },
     "output_type": "display_data"
    }
   ],
   "source": [
    "fig = plt.figure()\n",
    "ax = fig.gca()\n",
    "\n",
    "avg_duration_by_hour = weekend_subs_trips_df.groupby('pickup_hour')['tripduration'].mean()\n",
    "\n",
    "total_rides_by_hour = weekend_subs_trips_df.groupby('pickup_hour')['tripduration'].count()\n",
    "yerror = weekend_subs_trips_df.groupby('pickup_hour')['tripduration'].std()/(total_rides_by_hour)**(1/2)\n",
    "#yerror = weekend_subs_trips_df.groupby('pickup_hour')['tripduration'].std()/avg_duration_by_hour\n",
    "\n",
    "ax.bar(avg_duration_by_hour.index,avg_duration_by_hour,yerr=yerror, ecolor='orange')\n",
    "ax.set_title('Average trip duration by hour (weekend)')"
   ]
  },
  {
   "cell_type": "code",
   "execution_count": 186,
   "metadata": {
    "scrolled": false
   },
   "outputs": [
    {
     "data": {
      "text/plain": [
       "Text(0.5, 1.0, 'Average age by hour (weekday)')"
      ]
     },
     "execution_count": 186,
     "metadata": {},
     "output_type": "execute_result"
    },
    {
     "data": {
      "image/png": "[encoded data removed]",
      "text/plain": [
       "<Figure size 432x288 with 1 Axes>"
      ]
     },
     "metadata": {
      "needs_background": "light"
     },
     "output_type": "display_data"
    }
   ],
   "source": [
    "fig = plt.figure()\n",
    "ax = fig.gca()\n",
    "\n",
    "avg_age_by_hour = weekday_subs_trips_df.groupby('pickup_hour')['age'].mean()\n",
    "\n",
    "total_rides_by_hour = weekday_subs_trips_df.groupby('pickup_hour')['age'].count()\n",
    "#yerror = weekday_subs_trips_df.groupby('pickup_hour')['age'].std()/(total_rides_by_hour)**(1/2)\n",
    "yerror = weekday_subs_trips_df.groupby('pickup_hour')['age'].std()/avg_age_by_hour #Relative standard deviation instead of std dev of mean\n",
    "\n",
    "ax.bar(avg_age_by_hour.index,avg_age_by_hour,yerr=yerror, ecolor='orange')\n",
    "ax.set_title('Average age by hour (weekday)')"
   ]
  },
  {
   "cell_type": "code",
   "execution_count": 187,
   "metadata": {},
   "outputs": [
    {
     "data": {
      "text/plain": [
       "Text(0.5, 1.0, 'Average age by hour (weekend)')"
      ]
     },
     "execution_count": 187,
     "metadata": {},
     "output_type": "execute_result"
    },
    {
     "data": {
      "image/png": "[encoded data removed]",
      "text/plain": [
       "<Figure size 432x288 with 1 Axes>"
      ]
     },
     "metadata": {
      "needs_background": "light"
     },
     "output_type": "display_data"
    }
   ],
   "source": [
    "fig = plt.figure()\n",
    "ax = fig.gca()\n",
    "\n",
    "avg_age_by_hour = weekend_subs_trips_df.groupby('pickup_hour')['age'].mean()\n",
    "\n",
    "total_rides_by_hour = weekend_subs_trips_df.groupby('pickup_hour')['age'].count()\n",
    "#yerror = weekend_subs_trips_df.groupby('pickup_hour')['age'].std()/(total_rides_by_hour)**(1/2)\n",
    "yerror = weekend_subs_trips_df.groupby('pickup_hour')['age'].std()/avg_age_by_hour\n",
    "\n",
    "ax.bar(avg_age_by_hour.index,avg_age_by_hour,yerr=yerror, ecolor='orange')\n",
    "ax.set_title('Average age by hour (weekend)')"
   ]
  },
  {
   "cell_type": "code",
   "execution_count": 217,
   "metadata": {},
   "outputs": [
    {
     "data": {
      "text/plain": [
       "Text(0.5, 1.0, 'Trip duration histogram (weekday)')"
      ]
     },
     "execution_count": 217,
     "metadata": {},
     "output_type": "execute_result"
    },
    {
     "data": {
      "image/png": "[encoded data removed]",
      "text/plain": [
       "<Figure size 432x288 with 1 Axes>"
      ]
     },
     "metadata": {
      "needs_background": "light"
     },
     "output_type": "display_data"
    }
   ],
   "source": [
    "fig = plt.figure()\n",
    "ax = fig.gca()\n",
    "\n",
    "\n",
    "weekday_subs_trips_df['tripduration'].hist(bins=64,histtype='step')\n",
    "ax.grid(False)\n",
    "\n",
    "ax.set_title('Trip duration histogram (weekday)')"
   ]
  },
  {
   "cell_type": "code",
   "execution_count": 189,
   "metadata": {},
   "outputs": [
    {
     "data": {
      "text/plain": [
       "Text(0.5, 1.0, 'Trip duration histogram (weekend)')"
      ]
     },
     "execution_count": 189,
     "metadata": {},
     "output_type": "execute_result"
    },
    {
     "data": {
      "image/png": "[encoded data removed]",
      "text/plain": [
       "<Figure size 432x288 with 1 Axes>"
      ]
     },
     "metadata": {
      "needs_background": "light"
     },
     "output_type": "display_data"
    }
   ],
   "source": [
    "fig = plt.figure()\n",
    "ax = fig.gca()\n",
    "\n",
    "\n",
    "weekend_subs_trips_df['tripduration'].hist(bins=64,histtype='step',density=True)\n",
    "\n",
    "ax.grid(False)\n",
    "\n",
    "ax.set_title('Trip duration histogram (weekend)')"
   ]
  },
  {
   "cell_type": "code",
   "execution_count": 190,
   "metadata": {},
   "outputs": [
    {
     "data": {
      "text/plain": [
       "<matplotlib.legend.Legend at 0x25284dbe080>"
      ]
     },
     "execution_count": 190,
     "metadata": {},
     "output_type": "execute_result"
    },
    {
     "data": {
      "image/png": "[encoded data removed]",
      "text/plain": [
       "<Figure size 432x288 with 1 Axes>"
      ]
     },
     "metadata": {
      "needs_background": "light"
     },
     "output_type": "display_data"
    }
   ],
   "source": [
    "fig = plt.figure()\n",
    "ax = fig.gca()\n",
    "\n",
    "\n",
    "duration_by_hour = weekday_subs_trips_df.groupby('pickup_hour')['tripduration']\n",
    "\n",
    "duration_by_hour.hist(bins=64,histtype ='step',density=True)\n",
    "#ax.hist(duration_by_hour)\n",
    "\n",
    "#ax.bar(avg_duration_by_hour.index,avg_duration_by_hour,yerr=yerror, ecolor='orange')\n",
    "ax.set_title('Trip duration histogram by hour (weekday)')\n",
    "\n",
    "ax.grid(False)\n",
    "ax.legend(labels = list(range(24)),ncol=4)"
   ]
  },
  {
   "cell_type": "code",
   "execution_count": null,
   "metadata": {},
   "outputs": [],
   "source": []
  },
  {
   "cell_type": "code",
   "execution_count": 191,
   "metadata": {},
   "outputs": [
    {
     "data": {
      "image/png": "[encoded data removed]",
      "text/plain": [
       "<Figure size 432x288 with 1 Axes>"
      ]
     },
     "metadata": {
      "needs_background": "light"
     },
     "output_type": "display_data"
    }
   ],
   "source": [
    "fig = plt.figure()\n",
    "ax = fig.gca()\n",
    "\n",
    "\n",
    "duration_by_hour = weekend_subs_trips_df.groupby('pickup_hour')['tripduration']\n",
    "\n",
    "duration_by_hour.hist(bins=64,histtype='step',density=True)\n",
    "#ax.hist(duration_by_hour)\n",
    "\n",
    "#ax.bar(avg_duration_by_hour.index,avg_duration_by_hour,yerr=yerror, ecolor='orange')\n",
    "ax.set_title('Trip duration histogram by hour (weekend)')\n",
    "ax.grid(False)\n",
    "#ax.legend(labels = list(range(24)),ncol=4)"
   ]
  },
  {
   "cell_type": "code",
   "execution_count": 192,
   "metadata": {},
   "outputs": [
    {
     "data": {
      "text/plain": [
       "Text(0.5, 1.0, 'Age histogram (weekday)')"
      ]
     },
     "execution_count": 192,
     "metadata": {},
     "output_type": "execute_result"
    },
    {
     "data": {
      "image/png": "[encoded data removed]",
      "text/plain": [
       "<Figure size 432x288 with 1 Axes>"
      ]
     },
     "metadata": {
      "needs_background": "light"
     },
     "output_type": "display_data"
    }
   ],
   "source": [
    "fig = plt.figure()\n",
    "ax = fig.gca()\n",
    "\n",
    "\n",
    "ages_series  = weekday_subs_trips_df[weekday_subs_trips_df['age'] < 100]['age']\n",
    "#duration_by_hour = short_weekend_subs_trips_df.groupby('pickup_hour')['tripduration']\n",
    "\n",
    "ages_series.hist(bins=list([n for n in range(ages_series.min(),ages_series.max())]),histtype='step',density=True)\n",
    "#ax.hist(duration_by_hour)\n",
    "\n",
    "ax.grid(False)\n",
    "#ax.bar(avg_duration_by_hour.index,avg_duration_by_hour,yerr=yerror, ecolor='orange')\n",
    "ax.set_title('Age histogram (weekday)')\n",
    "#ax.legend(labels = list(range(24)),ncol=4)"
   ]
  },
  {
   "cell_type": "code",
   "execution_count": 205,
   "metadata": {},
   "outputs": [
    {
     "data": {
      "text/plain": [
       "Text(0.5, 1.0, 'Age histogram (weekend)')"
      ]
     },
     "execution_count": 205,
     "metadata": {},
     "output_type": "execute_result"
    },
    {
     "data": {
      "image/png": "[encoded data removed]",
      "text/plain": [
       "<Figure size 432x288 with 1 Axes>"
      ]
     },
     "metadata": {
      "needs_background": "light"
     },
     "output_type": "display_data"
    }
   ],
   "source": [
    "fig = plt.figure()\n",
    "ax = fig.gca()\n",
    "\n",
    "\n",
    "ages_series  = weekend_subs_trips_df[weekend_subs_trips_df['age'] < 100]['age']\n",
    "#duration_by_hour = short_weekend_subs_trips_df.groupby('pickup_hour')['tripduration']\n",
    "\n",
    "ages_series.hist(bins=list([n for n in range(ages_series.min(),ages_series.max())]),histtype='step')\n",
    "#ax.hist(duration_by_hour)\n",
    "\n",
    "ax.grid(False)\n",
    "\n",
    "ax.set_title('Age histogram (weekend)')"
   ]
  },
  {
   "cell_type": "code",
   "execution_count": 194,
   "metadata": {},
   "outputs": [
    {
     "data": {
      "text/plain": [
       "Text(0.5, 1.0, 'Age histogram for top weekday station \\n (station #519: Pershing Square North)')"
      ]
     },
     "execution_count": 194,
     "metadata": {},
     "output_type": "execute_result"
    },
    {
     "data": {
      "image/png": "[encoded data removed]",
      "text/plain": [
       "<Figure size 432x288 with 1 Axes>"
      ]
     },
     "metadata": {
      "needs_background": "light"
     },
     "output_type": "display_data"
    }
   ],
   "source": [
    "top_station=weekday_subs_trips_df.groupby('start station id')['age'].count().idxmax()\n",
    "\n",
    "fig = plt.figure()\n",
    "ax = fig.gca()\n",
    "\n",
    "age_top_station = weekday_subs_trips_df[weekday_subs_trips_df['start station id']==top_station]['age']\n",
    "\n",
    "age_top_station.hist(bins=100,histtype='step')\n",
    "ax.grid(False)\n",
    "\n",
    "ax.set_title('Age histogram for top weekday station \\n (station #{}: {})'.format(top_station,stations_info_df.loc[top_station]['station name']))\n",
    "\n"
   ]
  },
  {
   "cell_type": "code",
   "execution_count": 195,
   "metadata": {},
   "outputs": [
    {
     "data": {
      "text/plain": [
       "Text(0.5, 1.0, 'Age histogram for top weekend station \\n (station #435: W 21 St & 6 Ave)')"
      ]
     },
     "execution_count": 195,
     "metadata": {},
     "output_type": "execute_result"
    },
    {
     "data": {
      "image/png": "[encoded data removed]",
      "text/plain": [
       "<Figure size 432x288 with 1 Axes>"
      ]
     },
     "metadata": {
      "needs_background": "light"
     },
     "output_type": "display_data"
    }
   ],
   "source": [
    "top_station=weekend_subs_trips_df.groupby('start station id')['age'].count().idxmax()\n",
    "\n",
    "fig = plt.figure()\n",
    "ax = fig.gca()\n",
    "\n",
    "age100_df = weekend_subs_trips_df[weekend_subs_trips_df['age']<100]\n",
    "age_top_station = age100_df[age100_df['start station id']==top_station]['age']\n",
    "\n",
    "age_top_station.hist(bins=list(range(age100_df[age100_df['start station id']==top_station]['age'].max())),histtype='step')\n",
    "\n",
    "ax.grid(False)\n",
    "ax.set_title('Age histogram for top weekend station \\n (station #{}: {})'.format(top_station,stations_info_df.loc[top_station]['station name']))\n"
   ]
  },
  {
   "cell_type": "code",
   "execution_count": null,
   "metadata": {},
   "outputs": [],
   "source": []
  },
  {
   "cell_type": "code",
   "execution_count": null,
   "metadata": {},
   "outputs": [],
   "source": []
  },
  {
   "cell_type": "code",
   "execution_count": 201,
   "metadata": {},
   "outputs": [
    {
     "data": {
      "image/png": "[encoded data removed]",
      "text/plain": [
       "<Figure size 432x288 with 1 Axes>"
      ]
     },
     "metadata": {
      "needs_background": "light"
     },
     "output_type": "display_data"
    }
   ],
   "source": [
    "fig = plt.figure()\n",
    "ax = fig.gca()\n",
    "\n",
    "total_duration_by_bikeid = weekday_subs_trips_df.groupby('bikeid')['tripduration'].sum()\n",
    "\n",
    "\n",
    "total_duration_by_bikeid.hist(bins=60,histtype='step',density=True)\n",
    "ax.grid(False)\n",
    "\n",
    "ax.set_title('Bike usage histogram (total time in use)');"
   ]
  },
  {
   "cell_type": "code",
   "execution_count": 203,
   "metadata": {
    "scrolled": true
   },
   "outputs": [
    {
     "data": {
      "image/png": "[encoded data removed]",
      "text/plain": [
       "<Figure size 921.6x345.6 with 2 Axes>"
      ]
     },
     "metadata": {
      "needs_background": "light"
     },
     "output_type": "display_data"
    }
   ],
   "source": [
    "fig = plt.subplots(1,2,figsize=(12.8,4.8))\n",
    "#ax = fig.gca()\n",
    "\n",
    "total_trips_by_bikeid = weekday_subs_trips_df.groupby('bikeid')['tripduration'].count()\n",
    "\n",
    "plt.subplot(121)\n",
    "total_trips_by_bikeid.hist(bins=50,histtype='step')#,density=True)\n",
    "plt.grid(False)\n",
    "ax=plt.gca()\n",
    "ax.set_title('Bike usage histogram (number of trips)')\n",
    "\n",
    "plt.subplot(122)\n",
    "total_trips_by_bikeid.hist(bins=50,histtype='step',cumulative=True)\n",
    "plt.grid(False)\n",
    "ax=plt.gca()\n",
    "ax.set_title('Bike usage CDF (number of trips)')\n",
    "\n",
    "plt.show()\n",
    "\n",
    "\n",
    "\n",
    "#ax.set_title('Bike usage histogram (total trips)')\n",
    "#total_trips_by_bikeid.sort_values(ascending=False).head()"
   ]
  },
  {
   "cell_type": "code",
   "execution_count": 68,
   "metadata": {},
   "outputs": [
    {
     "data": {
      "text/plain": [
       "bikeid\n",
       "32090    316698\n",
       "32061    313375\n",
       "30624    307822\n",
       "32173    297591\n",
       "32161    291449\n",
       "31851    291156\n",
       "30692    290457\n",
       "30315    289192\n",
       "33017    287064\n",
       "32180    282489\n",
       "Name: tripduration, dtype: int64"
      ]
     },
     "execution_count": 68,
     "metadata": {},
     "output_type": "execute_result"
    }
   ],
   "source": [
    "#fig = plt.figure()\n",
    "#ax = fig.gca()\n",
    "\n",
    "total_duration_by_bikeid.nlargest(10)\n",
    "\n",
    "#ax.bar(total_duration_by_bikeid.index,total_duration_by_bikeid)\n",
    "#ax.set_title('Total use by bike')"
   ]
  },
  {
   "cell_type": "code",
   "execution_count": null,
   "metadata": {},
   "outputs": [],
   "source": [
    "total_trips_by_hr.nlargest(10)\n",
    "stations_info_df.loc[519]"
   ]
  },
  {
   "cell_type": "code",
   "execution_count": null,
   "metadata": {},
   "outputs": [],
   "source": [
    "max_total_trips_id\n",
    "max_single_trip_by_hr"
   ]
  },
  {
   "cell_type": "code",
   "execution_count": 134,
   "metadata": {},
   "outputs": [],
   "source": [
    "#fig, ax = plt.subplots(nrows=6,ncols=4)\n",
    "#ax = fig.gca()\n",
    "\n",
    "\n",
    "duration_by_hour = weekday_subs_trips_df.groupby('pickup_hour')['tripduration']\n",
    "\n",
    "hist_plts = duration_by_hour.hist(bins=144,density=True,histtype='step');\n",
    "\n",
    "\n",
    "#for row in range(6):\n",
    "#    for col in range(4):\n",
    "#        ax[row,col] =  hist_plts[row*4 + col]\n",
    "\n",
    "\n",
    "#ax.bar(avg_duration_by_hour.index,avg_duration_by_hour,yerr=yerror, ecolor='orange')\n",
    "#ax.set_title('Trip duration histogram by hour (weekday)')\n",
    "#ax.legend(labels = list(range(24)),ncol=4)"
   ]
  },
  {
   "cell_type": "code",
   "execution_count": 200,
   "metadata": {},
   "outputs": [
    {
     "data": {
      "text/plain": [
       "array([[<matplotlib.axes._subplots.AxesSubplot object at 0x000002527029E898>,\n",
       "        <matplotlib.axes._subplots.AxesSubplot object at 0x000002527091E6D8>,\n",
       "        <matplotlib.axes._subplots.AxesSubplot object at 0x0000025270944C50>,\n",
       "        <matplotlib.axes._subplots.AxesSubplot object at 0x0000025270973208>,\n",
       "        <matplotlib.axes._subplots.AxesSubplot object at 0x000002527099A780>],\n",
       "       [<matplotlib.axes._subplots.AxesSubplot object at 0x00000252709C1CF8>,\n",
       "        <matplotlib.axes._subplots.AxesSubplot object at 0x00000252709F52B0>,\n",
       "        <matplotlib.axes._subplots.AxesSubplot object at 0x0000025270A1B860>,\n",
       "        <matplotlib.axes._subplots.AxesSubplot object at 0x0000025270A1B898>,\n",
       "        <matplotlib.axes._subplots.AxesSubplot object at 0x0000025270A75358>],\n",
       "       [<matplotlib.axes._subplots.AxesSubplot object at 0x0000025270A9B8D0>,\n",
       "        <matplotlib.axes._subplots.AxesSubplot object at 0x0000025270AC2E48>,\n",
       "        <matplotlib.axes._subplots.AxesSubplot object at 0x0000025270AF5400>,\n",
       "        <matplotlib.axes._subplots.AxesSubplot object at 0x000002527100D978>,\n",
       "        <matplotlib.axes._subplots.AxesSubplot object at 0x00000252759F6EF0>],\n",
       "       [<matplotlib.axes._subplots.AxesSubplot object at 0x0000025275A284A8>,\n",
       "        <matplotlib.axes._subplots.AxesSubplot object at 0x0000025275A4FA20>,\n",
       "        <matplotlib.axes._subplots.AxesSubplot object at 0x0000025275A77F98>,\n",
       "        <matplotlib.axes._subplots.AxesSubplot object at 0x0000025275AA7550>,\n",
       "        <matplotlib.axes._subplots.AxesSubplot object at 0x0000025275ACDAC8>],\n",
       "       [<matplotlib.axes._subplots.AxesSubplot object at 0x0000025275B02080>,\n",
       "        <matplotlib.axes._subplots.AxesSubplot object at 0x0000025275B285F8>,\n",
       "        <matplotlib.axes._subplots.AxesSubplot object at 0x00000252702704E0>,\n",
       "        <matplotlib.axes._subplots.AxesSubplot object at 0x000002527022E0B8>,\n",
       "        <matplotlib.axes._subplots.AxesSubplot object at 0x00000252701BC8D0>]],\n",
       "      dtype=object)"
      ]
     },
     "execution_count": 200,
     "metadata": {},
     "output_type": "execute_result"
    },
    {
     "data": {
      "image/png": "[encoded data removed]",
      "text/plain": [
       "<Figure size 432x288 with 25 Axes>"
      ]
     },
     "metadata": {
      "needs_background": "light"
     },
     "output_type": "display_data"
    }
   ],
   "source": [
    "weekday_subs_trips_df.hist(column = 'tripduration', by=weekday_subs_trips_df.pickup_hour, bins = 144,density=True,histtype='step')"
   ]
  }
 ],
 "metadata": {
  "kernelspec": {
   "display_name": "Python 3",
   "language": "python",
   "name": "python3"
  },
  "language_info": {
   "codemirror_mode": {
    "name": "ipython",
    "version": 3
   },
   "file_extension": ".py",
   "mimetype": "text/x-python",
   "name": "python",
   "nbconvert_exporter": "python",
   "pygments_lexer": "ipython3",
   "version": "3.7.1"
  }
 },
 "nbformat": 4,
 "nbformat_minor": 2
}

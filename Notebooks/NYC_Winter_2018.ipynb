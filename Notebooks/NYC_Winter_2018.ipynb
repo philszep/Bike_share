{
 "cells": [
  {
   "cell_type": "markdown",
   "metadata": {},
   "source": [
    "# Bikeshare rides (Winter 2018)\n",
    "This notebook analyzes bikeshare data for NYC citibikes. \n",
    "\n",
    "Here we get some of the bike data (Jan - Mar of 2018) as a sample set and perform some basic exploratory analysis and plot-making"
   ]
  },
  {
   "cell_type": "code",
   "execution_count": 1,
   "metadata": {},
   "outputs": [],
   "source": [
    "%matplotlib inline\n",
    "import matplotlib.pyplot as plt\n",
    "import matplotlib as mpl\n",
    "import mplleaflet\n",
    "import pandas as pd\n",
    "import numpy as np\n",
    "import json\n",
    "import math\n",
    "from matplotlib import cm\n",
    "\n",
    "import os\n",
    "\n",
    "os.environ['PROJ_LIB'] = r'C:\\Users\\pgsze\\Anaconda3\\pkgs\\proj4-5.2.0-ha925a31_1\\Library\\share'\n",
    "\n",
    "\n",
    "from mpl_toolkits.basemap import Basemap\n"
   ]
  },
  {
   "cell_type": "code",
   "execution_count": 2,
   "metadata": {
    "scrolled": true
   },
   "outputs": [
    {
     "data": {
      "text/html": [
       "<div>\n",
       "<style scoped>\n",
       "    .dataframe tbody tr th:only-of-type {\n",
       "        vertical-align: middle;\n",
       "    }\n",
       "\n",
       "    .dataframe tbody tr th {\n",
       "        vertical-align: top;\n",
       "    }\n",
       "\n",
       "    .dataframe thead th {\n",
       "        text-align: right;\n",
       "    }\n",
       "</style>\n",
       "<table border=\"1\" class=\"dataframe\">\n",
       "  <thead>\n",
       "    <tr style=\"text-align: right;\">\n",
       "      <th></th>\n",
       "      <th>tripduration</th>\n",
       "      <th>starttime</th>\n",
       "      <th>stoptime</th>\n",
       "      <th>start station id</th>\n",
       "      <th>start station name</th>\n",
       "      <th>start station latitude</th>\n",
       "      <th>start station longitude</th>\n",
       "      <th>end station id</th>\n",
       "      <th>end station name</th>\n",
       "      <th>end station latitude</th>\n",
       "      <th>end station longitude</th>\n",
       "      <th>bikeid</th>\n",
       "      <th>usertype</th>\n",
       "      <th>birth year</th>\n",
       "      <th>gender</th>\n",
       "    </tr>\n",
       "  </thead>\n",
       "  <tbody>\n",
       "    <tr>\n",
       "      <th>0</th>\n",
       "      <td>970</td>\n",
       "      <td>2018-01-01 13:50:57.4340</td>\n",
       "      <td>2018-01-01 14:07:08.1860</td>\n",
       "      <td>72</td>\n",
       "      <td>W 52 St &amp; 11 Ave</td>\n",
       "      <td>40.767272</td>\n",
       "      <td>-73.993929</td>\n",
       "      <td>505</td>\n",
       "      <td>6 Ave &amp; W 33 St</td>\n",
       "      <td>40.749013</td>\n",
       "      <td>-73.988484</td>\n",
       "      <td>31956</td>\n",
       "      <td>Subscriber</td>\n",
       "      <td>1992</td>\n",
       "      <td>1</td>\n",
       "    </tr>\n",
       "    <tr>\n",
       "      <th>1</th>\n",
       "      <td>723</td>\n",
       "      <td>2018-01-01 15:33:30.1820</td>\n",
       "      <td>2018-01-01 15:45:33.3410</td>\n",
       "      <td>72</td>\n",
       "      <td>W 52 St &amp; 11 Ave</td>\n",
       "      <td>40.767272</td>\n",
       "      <td>-73.993929</td>\n",
       "      <td>3255</td>\n",
       "      <td>8 Ave &amp; W 31 St</td>\n",
       "      <td>40.750585</td>\n",
       "      <td>-73.994685</td>\n",
       "      <td>32536</td>\n",
       "      <td>Subscriber</td>\n",
       "      <td>1969</td>\n",
       "      <td>1</td>\n",
       "    </tr>\n",
       "    <tr>\n",
       "      <th>2</th>\n",
       "      <td>496</td>\n",
       "      <td>2018-01-01 15:39:18.3370</td>\n",
       "      <td>2018-01-01 15:47:35.1720</td>\n",
       "      <td>72</td>\n",
       "      <td>W 52 St &amp; 11 Ave</td>\n",
       "      <td>40.767272</td>\n",
       "      <td>-73.993929</td>\n",
       "      <td>525</td>\n",
       "      <td>W 34 St &amp; 11 Ave</td>\n",
       "      <td>40.755942</td>\n",
       "      <td>-74.002116</td>\n",
       "      <td>16069</td>\n",
       "      <td>Subscriber</td>\n",
       "      <td>1956</td>\n",
       "      <td>1</td>\n",
       "    </tr>\n",
       "    <tr>\n",
       "      <th>3</th>\n",
       "      <td>306</td>\n",
       "      <td>2018-01-01 15:40:13.3720</td>\n",
       "      <td>2018-01-01 15:45:20.1910</td>\n",
       "      <td>72</td>\n",
       "      <td>W 52 St &amp; 11 Ave</td>\n",
       "      <td>40.767272</td>\n",
       "      <td>-73.993929</td>\n",
       "      <td>447</td>\n",
       "      <td>8 Ave &amp; W 52 St</td>\n",
       "      <td>40.763707</td>\n",
       "      <td>-73.985162</td>\n",
       "      <td>31781</td>\n",
       "      <td>Subscriber</td>\n",
       "      <td>1974</td>\n",
       "      <td>1</td>\n",
       "    </tr>\n",
       "    <tr>\n",
       "      <th>4</th>\n",
       "      <td>306</td>\n",
       "      <td>2018-01-01 18:14:51.5680</td>\n",
       "      <td>2018-01-01 18:19:57.6420</td>\n",
       "      <td>72</td>\n",
       "      <td>W 52 St &amp; 11 Ave</td>\n",
       "      <td>40.767272</td>\n",
       "      <td>-73.993929</td>\n",
       "      <td>3356</td>\n",
       "      <td>Amsterdam Ave &amp; W 66 St</td>\n",
       "      <td>40.774667</td>\n",
       "      <td>-73.984706</td>\n",
       "      <td>30319</td>\n",
       "      <td>Subscriber</td>\n",
       "      <td>1992</td>\n",
       "      <td>1</td>\n",
       "    </tr>\n",
       "  </tbody>\n",
       "</table>\n",
       "</div>"
      ],
      "text/plain": [
       "   tripduration                 starttime                  stoptime  \\\n",
       "0           970  2018-01-01 13:50:57.4340  2018-01-01 14:07:08.1860   \n",
       "1           723  2018-01-01 15:33:30.1820  2018-01-01 15:45:33.3410   \n",
       "2           496  2018-01-01 15:39:18.3370  2018-01-01 15:47:35.1720   \n",
       "3           306  2018-01-01 15:40:13.3720  2018-01-01 15:45:20.1910   \n",
       "4           306  2018-01-01 18:14:51.5680  2018-01-01 18:19:57.6420   \n",
       "\n",
       "   start station id start station name  start station latitude  \\\n",
       "0                72   W 52 St & 11 Ave               40.767272   \n",
       "1                72   W 52 St & 11 Ave               40.767272   \n",
       "2                72   W 52 St & 11 Ave               40.767272   \n",
       "3                72   W 52 St & 11 Ave               40.767272   \n",
       "4                72   W 52 St & 11 Ave               40.767272   \n",
       "\n",
       "   start station longitude  end station id         end station name  \\\n",
       "0               -73.993929             505          6 Ave & W 33 St   \n",
       "1               -73.993929            3255          8 Ave & W 31 St   \n",
       "2               -73.993929             525         W 34 St & 11 Ave   \n",
       "3               -73.993929             447          8 Ave & W 52 St   \n",
       "4               -73.993929            3356  Amsterdam Ave & W 66 St   \n",
       "\n",
       "   end station latitude  end station longitude  bikeid    usertype  \\\n",
       "0             40.749013             -73.988484   31956  Subscriber   \n",
       "1             40.750585             -73.994685   32536  Subscriber   \n",
       "2             40.755942             -74.002116   16069  Subscriber   \n",
       "3             40.763707             -73.985162   31781  Subscriber   \n",
       "4             40.774667             -73.984706   30319  Subscriber   \n",
       "\n",
       "   birth year  gender  \n",
       "0        1992       1  \n",
       "1        1969       1  \n",
       "2        1956       1  \n",
       "3        1974       1  \n",
       "4        1992       1  "
      ]
     },
     "execution_count": 2,
     "metadata": {},
     "output_type": "execute_result"
    }
   ],
   "source": [
    "#Grab the data for winder 2018\n",
    "winter_df_list = []\n",
    "\n",
    "for el in ['01','02','03']:\n",
    "    winter_df_list.append(pd.read_csv('../data/NYC/2018/2018{}-citibike-tripdata/2018{}-citibike-tripdata.csv'.format(el,el)))\n",
    "\n",
    "winter_df_list[0].head()"
   ]
  },
  {
   "cell_type": "code",
   "execution_count": 3,
   "metadata": {},
   "outputs": [
    {
     "data": {
      "text/html": [
       "<div>\n",
       "<style scoped>\n",
       "    .dataframe tbody tr th:only-of-type {\n",
       "        vertical-align: middle;\n",
       "    }\n",
       "\n",
       "    .dataframe tbody tr th {\n",
       "        vertical-align: top;\n",
       "    }\n",
       "\n",
       "    .dataframe thead th {\n",
       "        text-align: right;\n",
       "    }\n",
       "</style>\n",
       "<table border=\"1\" class=\"dataframe\">\n",
       "  <thead>\n",
       "    <tr style=\"text-align: right;\">\n",
       "      <th></th>\n",
       "      <th>tripduration</th>\n",
       "      <th>starttime</th>\n",
       "      <th>stoptime</th>\n",
       "      <th>start station id</th>\n",
       "      <th>start station name</th>\n",
       "      <th>start station latitude</th>\n",
       "      <th>start station longitude</th>\n",
       "      <th>end station id</th>\n",
       "      <th>end station name</th>\n",
       "      <th>end station latitude</th>\n",
       "      <th>end station longitude</th>\n",
       "      <th>bikeid</th>\n",
       "      <th>usertype</th>\n",
       "      <th>birth year</th>\n",
       "      <th>gender</th>\n",
       "    </tr>\n",
       "  </thead>\n",
       "  <tbody>\n",
       "    <tr>\n",
       "      <th>0</th>\n",
       "      <td>970</td>\n",
       "      <td>2018-01-01 13:50:57.4340</td>\n",
       "      <td>2018-01-01 14:07:08.1860</td>\n",
       "      <td>72</td>\n",
       "      <td>W 52 St &amp; 11 Ave</td>\n",
       "      <td>40.767272</td>\n",
       "      <td>-73.993929</td>\n",
       "      <td>505</td>\n",
       "      <td>6 Ave &amp; W 33 St</td>\n",
       "      <td>40.749013</td>\n",
       "      <td>-73.988484</td>\n",
       "      <td>31956</td>\n",
       "      <td>Subscriber</td>\n",
       "      <td>1992</td>\n",
       "      <td>1</td>\n",
       "    </tr>\n",
       "    <tr>\n",
       "      <th>1</th>\n",
       "      <td>723</td>\n",
       "      <td>2018-01-01 15:33:30.1820</td>\n",
       "      <td>2018-01-01 15:45:33.3410</td>\n",
       "      <td>72</td>\n",
       "      <td>W 52 St &amp; 11 Ave</td>\n",
       "      <td>40.767272</td>\n",
       "      <td>-73.993929</td>\n",
       "      <td>3255</td>\n",
       "      <td>8 Ave &amp; W 31 St</td>\n",
       "      <td>40.750585</td>\n",
       "      <td>-73.994685</td>\n",
       "      <td>32536</td>\n",
       "      <td>Subscriber</td>\n",
       "      <td>1969</td>\n",
       "      <td>1</td>\n",
       "    </tr>\n",
       "    <tr>\n",
       "      <th>2</th>\n",
       "      <td>496</td>\n",
       "      <td>2018-01-01 15:39:18.3370</td>\n",
       "      <td>2018-01-01 15:47:35.1720</td>\n",
       "      <td>72</td>\n",
       "      <td>W 52 St &amp; 11 Ave</td>\n",
       "      <td>40.767272</td>\n",
       "      <td>-73.993929</td>\n",
       "      <td>525</td>\n",
       "      <td>W 34 St &amp; 11 Ave</td>\n",
       "      <td>40.755942</td>\n",
       "      <td>-74.002116</td>\n",
       "      <td>16069</td>\n",
       "      <td>Subscriber</td>\n",
       "      <td>1956</td>\n",
       "      <td>1</td>\n",
       "    </tr>\n",
       "    <tr>\n",
       "      <th>3</th>\n",
       "      <td>306</td>\n",
       "      <td>2018-01-01 15:40:13.3720</td>\n",
       "      <td>2018-01-01 15:45:20.1910</td>\n",
       "      <td>72</td>\n",
       "      <td>W 52 St &amp; 11 Ave</td>\n",
       "      <td>40.767272</td>\n",
       "      <td>-73.993929</td>\n",
       "      <td>447</td>\n",
       "      <td>8 Ave &amp; W 52 St</td>\n",
       "      <td>40.763707</td>\n",
       "      <td>-73.985162</td>\n",
       "      <td>31781</td>\n",
       "      <td>Subscriber</td>\n",
       "      <td>1974</td>\n",
       "      <td>1</td>\n",
       "    </tr>\n",
       "    <tr>\n",
       "      <th>4</th>\n",
       "      <td>306</td>\n",
       "      <td>2018-01-01 18:14:51.5680</td>\n",
       "      <td>2018-01-01 18:19:57.6420</td>\n",
       "      <td>72</td>\n",
       "      <td>W 52 St &amp; 11 Ave</td>\n",
       "      <td>40.767272</td>\n",
       "      <td>-73.993929</td>\n",
       "      <td>3356</td>\n",
       "      <td>Amsterdam Ave &amp; W 66 St</td>\n",
       "      <td>40.774667</td>\n",
       "      <td>-73.984706</td>\n",
       "      <td>30319</td>\n",
       "      <td>Subscriber</td>\n",
       "      <td>1992</td>\n",
       "      <td>1</td>\n",
       "    </tr>\n",
       "  </tbody>\n",
       "</table>\n",
       "</div>"
      ],
      "text/plain": [
       "   tripduration                 starttime                  stoptime  \\\n",
       "0           970  2018-01-01 13:50:57.4340  2018-01-01 14:07:08.1860   \n",
       "1           723  2018-01-01 15:33:30.1820  2018-01-01 15:45:33.3410   \n",
       "2           496  2018-01-01 15:39:18.3370  2018-01-01 15:47:35.1720   \n",
       "3           306  2018-01-01 15:40:13.3720  2018-01-01 15:45:20.1910   \n",
       "4           306  2018-01-01 18:14:51.5680  2018-01-01 18:19:57.6420   \n",
       "\n",
       "   start station id start station name  start station latitude  \\\n",
       "0                72   W 52 St & 11 Ave               40.767272   \n",
       "1                72   W 52 St & 11 Ave               40.767272   \n",
       "2                72   W 52 St & 11 Ave               40.767272   \n",
       "3                72   W 52 St & 11 Ave               40.767272   \n",
       "4                72   W 52 St & 11 Ave               40.767272   \n",
       "\n",
       "   start station longitude  end station id         end station name  \\\n",
       "0               -73.993929             505          6 Ave & W 33 St   \n",
       "1               -73.993929            3255          8 Ave & W 31 St   \n",
       "2               -73.993929             525         W 34 St & 11 Ave   \n",
       "3               -73.993929             447          8 Ave & W 52 St   \n",
       "4               -73.993929            3356  Amsterdam Ave & W 66 St   \n",
       "\n",
       "   end station latitude  end station longitude  bikeid    usertype  \\\n",
       "0             40.749013             -73.988484   31956  Subscriber   \n",
       "1             40.750585             -73.994685   32536  Subscriber   \n",
       "2             40.755942             -74.002116   16069  Subscriber   \n",
       "3             40.763707             -73.985162   31781  Subscriber   \n",
       "4             40.774667             -73.984706   30319  Subscriber   \n",
       "\n",
       "   birth year  gender  \n",
       "0        1992       1  \n",
       "1        1969       1  \n",
       "2        1956       1  \n",
       "3        1974       1  \n",
       "4        1992       1  "
      ]
     },
     "execution_count": 3,
     "metadata": {},
     "output_type": "execute_result"
    }
   ],
   "source": [
    "#Concat them all together into one dataframe\n",
    "winter_df = pd.concat(winter_df_list,ignore_index=True)\n",
    "winter_df.head()"
   ]
  },
  {
   "cell_type": "code",
   "execution_count": 4,
   "metadata": {},
   "outputs": [
    {
     "data": {
      "text/html": [
       "<div>\n",
       "<style scoped>\n",
       "    .dataframe tbody tr th:only-of-type {\n",
       "        vertical-align: middle;\n",
       "    }\n",
       "\n",
       "    .dataframe tbody tr th {\n",
       "        vertical-align: top;\n",
       "    }\n",
       "\n",
       "    .dataframe thead th {\n",
       "        text-align: right;\n",
       "    }\n",
       "</style>\n",
       "<table border=\"1\" class=\"dataframe\">\n",
       "  <thead>\n",
       "    <tr style=\"text-align: right;\">\n",
       "      <th></th>\n",
       "      <th>tripduration</th>\n",
       "      <th>birth year</th>\n",
       "      <th>start station latitude</th>\n",
       "      <th>start station longitude</th>\n",
       "      <th>end station latitude</th>\n",
       "      <th>end station longitude</th>\n",
       "    </tr>\n",
       "  </thead>\n",
       "  <tbody>\n",
       "    <tr>\n",
       "      <th>count</th>\n",
       "      <td>2538780.00</td>\n",
       "      <td>2538780.00</td>\n",
       "      <td>2538780.00</td>\n",
       "      <td>2538780.00</td>\n",
       "      <td>2538780.00</td>\n",
       "      <td>2538780.00</td>\n",
       "    </tr>\n",
       "    <tr>\n",
       "      <th>mean</th>\n",
       "      <td>864.84</td>\n",
       "      <td>1977.94</td>\n",
       "      <td>40.74</td>\n",
       "      <td>-73.98</td>\n",
       "      <td>40.74</td>\n",
       "      <td>-73.98</td>\n",
       "    </tr>\n",
       "    <tr>\n",
       "      <th>std</th>\n",
       "      <td>31231.93</td>\n",
       "      <td>12.09</td>\n",
       "      <td>0.04</td>\n",
       "      <td>0.02</td>\n",
       "      <td>0.04</td>\n",
       "      <td>0.02</td>\n",
       "    </tr>\n",
       "    <tr>\n",
       "      <th>min</th>\n",
       "      <td>61.00</td>\n",
       "      <td>1885.00</td>\n",
       "      <td>40.65</td>\n",
       "      <td>-74.02</td>\n",
       "      <td>40.65</td>\n",
       "      <td>-74.06</td>\n",
       "    </tr>\n",
       "    <tr>\n",
       "      <th>25%</th>\n",
       "      <td>321.00</td>\n",
       "      <td>1969.00</td>\n",
       "      <td>40.72</td>\n",
       "      <td>-73.99</td>\n",
       "      <td>40.72</td>\n",
       "      <td>-73.99</td>\n",
       "    </tr>\n",
       "    <tr>\n",
       "      <th>50%</th>\n",
       "      <td>521.00</td>\n",
       "      <td>1980.00</td>\n",
       "      <td>40.74</td>\n",
       "      <td>-73.99</td>\n",
       "      <td>40.74</td>\n",
       "      <td>-73.99</td>\n",
       "    </tr>\n",
       "    <tr>\n",
       "      <th>75%</th>\n",
       "      <td>875.00</td>\n",
       "      <td>1988.00</td>\n",
       "      <td>40.76</td>\n",
       "      <td>-73.97</td>\n",
       "      <td>40.76</td>\n",
       "      <td>-73.98</td>\n",
       "    </tr>\n",
       "    <tr>\n",
       "      <th>max</th>\n",
       "      <td>19510049.00</td>\n",
       "      <td>2002.00</td>\n",
       "      <td>45.51</td>\n",
       "      <td>-73.57</td>\n",
       "      <td>45.51</td>\n",
       "      <td>-73.57</td>\n",
       "    </tr>\n",
       "  </tbody>\n",
       "</table>\n",
       "</div>"
      ],
      "text/plain": [
       "       tripduration  birth year  start station latitude  \\\n",
       "count    2538780.00  2538780.00              2538780.00   \n",
       "mean         864.84     1977.94                   40.74   \n",
       "std        31231.93       12.09                    0.04   \n",
       "min           61.00     1885.00                   40.65   \n",
       "25%          321.00     1969.00                   40.72   \n",
       "50%          521.00     1980.00                   40.74   \n",
       "75%          875.00     1988.00                   40.76   \n",
       "max     19510049.00     2002.00                   45.51   \n",
       "\n",
       "       start station longitude  end station latitude  end station longitude  \n",
       "count               2538780.00            2538780.00             2538780.00  \n",
       "mean                    -73.98                 40.74                 -73.98  \n",
       "std                       0.02                  0.04                   0.02  \n",
       "min                     -74.02                 40.65                 -74.06  \n",
       "25%                     -73.99                 40.72                 -73.99  \n",
       "50%                     -73.99                 40.74                 -73.99  \n",
       "75%                     -73.97                 40.76                 -73.98  \n",
       "max                     -73.57                 45.51                 -73.57  "
      ]
     },
     "execution_count": 4,
     "metadata": {},
     "output_type": "execute_result"
    }
   ],
   "source": [
    "# Comments: \n",
    "# The max value for tripduration, there are several trips that are unreasonably long (10^6 seconds is more than 10 days)\n",
    "# The max latitudes are over 45 degrees! That's not even in New York!\n",
    "# The min birthyear is 1885! We'll leave these since we can filter out the anomalous ages later if we want to look at age data\n",
    "winter_df[['tripduration','birth year','start station latitude','start station longitude','end station latitude','end station longitude']].describe().round(2)"
   ]
  },
  {
   "cell_type": "code",
   "execution_count": 5,
   "metadata": {},
   "outputs": [],
   "source": [
    "#Number of weekend days and weekday days for Jan - March 2018\n",
    "num_WE = 25\n",
    "num_WD = 31+28+31-num_WE #Note I'm not subtracting holidays here, maybe later..."
   ]
  },
  {
   "cell_type": "markdown",
   "metadata": {},
   "source": [
    "The next few cells use the functions in `bike_share_functions.py` to clean the bike data and assemble an independent station dataframe. Finally, pickled versions of the dataframes are saved to disk."
   ]
  },
  {
   "cell_type": "code",
   "execution_count": 6,
   "metadata": {},
   "outputs": [],
   "source": [
    "import sys\n",
    "sys.path.append('../')\n",
    "\n",
    "from bike_share_functions import bike_clean_df, get_stations_info, get_trip_info\n"
   ]
  },
  {
   "cell_type": "code",
   "execution_count": 7,
   "metadata": {},
   "outputs": [
    {
     "name": "stdout",
     "output_type": "stream",
     "text": [
      "Dropped 0 NaN entries\n",
      "Dropped an additional 114501 non-subscriber entries\n",
      "Dropped an additional 1984 entries with trips longer than 2 hours\n",
      "Changed type of start station id and end station id to integer\n",
      "Changed type of starttime and stoptime to datetime\n",
      "Dropped an additional 44 trips with start/end stations outside NYC\n",
      "Total trips remaining: 2422251\n"
     ]
    }
   ],
   "source": [
    "#Cleans data, see output\n",
    "subs_df = bike_clean_df(winter_df)\n",
    "print('Total trips remaining: {}'.format(len(subs_df)))"
   ]
  },
  {
   "cell_type": "code",
   "execution_count": 8,
   "metadata": {},
   "outputs": [
    {
     "name": "stdout",
     "output_type": "stream",
     "text": [
      "total stations: 777\n"
     ]
    },
    {
     "data": {
      "text/html": [
       "<div>\n",
       "<style scoped>\n",
       "    .dataframe tbody tr th:only-of-type {\n",
       "        vertical-align: middle;\n",
       "    }\n",
       "\n",
       "    .dataframe tbody tr th {\n",
       "        vertical-align: top;\n",
       "    }\n",
       "\n",
       "    .dataframe thead th {\n",
       "        text-align: right;\n",
       "    }\n",
       "</style>\n",
       "<table border=\"1\" class=\"dataframe\">\n",
       "  <thead>\n",
       "    <tr style=\"text-align: right;\">\n",
       "      <th></th>\n",
       "      <th>lat</th>\n",
       "      <th>lon</th>\n",
       "      <th>station name</th>\n",
       "    </tr>\n",
       "  </thead>\n",
       "  <tbody>\n",
       "    <tr>\n",
       "      <th>72</th>\n",
       "      <td>40.767272</td>\n",
       "      <td>-73.993929</td>\n",
       "      <td>W 52 St &amp; 11 Ave</td>\n",
       "    </tr>\n",
       "    <tr>\n",
       "      <th>79</th>\n",
       "      <td>40.719116</td>\n",
       "      <td>-74.006667</td>\n",
       "      <td>Franklin St &amp; W Broadway</td>\n",
       "    </tr>\n",
       "    <tr>\n",
       "      <th>82</th>\n",
       "      <td>40.711174</td>\n",
       "      <td>-74.000165</td>\n",
       "      <td>St James Pl &amp; Pearl St</td>\n",
       "    </tr>\n",
       "    <tr>\n",
       "      <th>83</th>\n",
       "      <td>40.683826</td>\n",
       "      <td>-73.976323</td>\n",
       "      <td>Atlantic Ave &amp; Fort Greene Pl</td>\n",
       "    </tr>\n",
       "    <tr>\n",
       "      <th>119</th>\n",
       "      <td>40.696089</td>\n",
       "      <td>-73.978034</td>\n",
       "      <td>Park Ave &amp; St Edwards St</td>\n",
       "    </tr>\n",
       "  </tbody>\n",
       "</table>\n",
       "</div>"
      ],
      "text/plain": [
       "           lat        lon                   station name\n",
       "72   40.767272 -73.993929               W 52 St & 11 Ave\n",
       "79   40.719116 -74.006667       Franklin St & W Broadway\n",
       "82   40.711174 -74.000165         St James Pl & Pearl St\n",
       "83   40.683826 -73.976323  Atlantic Ave & Fort Greene Pl\n",
       "119  40.696089 -73.978034       Park Ave & St Edwards St"
      ]
     },
     "execution_count": 8,
     "metadata": {},
     "output_type": "execute_result"
    }
   ],
   "source": [
    "#Creates an independent dataframe with station names and locations\n",
    "stations_info_df = get_stations_info(subs_df)\n",
    "print('total stations: {}'.format(len(stations_info_df))) # get the number of stations\n",
    "stations_info_df.head()"
   ]
  },
  {
   "cell_type": "code",
   "execution_count": 9,
   "metadata": {},
   "outputs": [
    {
     "data": {
      "text/html": [
       "<div>\n",
       "<style scoped>\n",
       "    .dataframe tbody tr th:only-of-type {\n",
       "        vertical-align: middle;\n",
       "    }\n",
       "\n",
       "    .dataframe tbody tr th {\n",
       "        vertical-align: top;\n",
       "    }\n",
       "\n",
       "    .dataframe thead th {\n",
       "        text-align: right;\n",
       "    }\n",
       "</style>\n",
       "<table border=\"1\" class=\"dataframe\">\n",
       "  <thead>\n",
       "    <tr style=\"text-align: right;\">\n",
       "      <th></th>\n",
       "      <th>tripduration</th>\n",
       "      <th>starttime</th>\n",
       "      <th>stoptime</th>\n",
       "      <th>start station id</th>\n",
       "      <th>end station id</th>\n",
       "      <th>bikeid</th>\n",
       "      <th>birth year</th>\n",
       "      <th>gender</th>\n",
       "      <th>start_day</th>\n",
       "      <th>stop_day</th>\n",
       "      <th>pickup_hour</th>\n",
       "      <th>dropoff_hour</th>\n",
       "      <th>age</th>\n",
       "      <th>Trip_Type</th>\n",
       "      <th>start_end_station</th>\n",
       "    </tr>\n",
       "  </thead>\n",
       "  <tbody>\n",
       "    <tr>\n",
       "      <th>0</th>\n",
       "      <td>970</td>\n",
       "      <td>2018-01-01 13:50:57.434</td>\n",
       "      <td>2018-01-01 14:07:08.186</td>\n",
       "      <td>72</td>\n",
       "      <td>505</td>\n",
       "      <td>31956</td>\n",
       "      <td>1992</td>\n",
       "      <td>1</td>\n",
       "      <td>0</td>\n",
       "      <td>0</td>\n",
       "      <td>13</td>\n",
       "      <td>14</td>\n",
       "      <td>26</td>\n",
       "      <td>Midday</td>\n",
       "      <td>(72, 505)</td>\n",
       "    </tr>\n",
       "    <tr>\n",
       "      <th>1</th>\n",
       "      <td>723</td>\n",
       "      <td>2018-01-01 15:33:30.182</td>\n",
       "      <td>2018-01-01 15:45:33.341</td>\n",
       "      <td>72</td>\n",
       "      <td>3255</td>\n",
       "      <td>32536</td>\n",
       "      <td>1969</td>\n",
       "      <td>1</td>\n",
       "      <td>0</td>\n",
       "      <td>0</td>\n",
       "      <td>15</td>\n",
       "      <td>15</td>\n",
       "      <td>49</td>\n",
       "      <td>Midday</td>\n",
       "      <td>(72, 3255)</td>\n",
       "    </tr>\n",
       "    <tr>\n",
       "      <th>2</th>\n",
       "      <td>496</td>\n",
       "      <td>2018-01-01 15:39:18.337</td>\n",
       "      <td>2018-01-01 15:47:35.172</td>\n",
       "      <td>72</td>\n",
       "      <td>525</td>\n",
       "      <td>16069</td>\n",
       "      <td>1956</td>\n",
       "      <td>1</td>\n",
       "      <td>0</td>\n",
       "      <td>0</td>\n",
       "      <td>15</td>\n",
       "      <td>15</td>\n",
       "      <td>62</td>\n",
       "      <td>Midday</td>\n",
       "      <td>(72, 525)</td>\n",
       "    </tr>\n",
       "    <tr>\n",
       "      <th>3</th>\n",
       "      <td>306</td>\n",
       "      <td>2018-01-01 15:40:13.372</td>\n",
       "      <td>2018-01-01 15:45:20.191</td>\n",
       "      <td>72</td>\n",
       "      <td>447</td>\n",
       "      <td>31781</td>\n",
       "      <td>1974</td>\n",
       "      <td>1</td>\n",
       "      <td>0</td>\n",
       "      <td>0</td>\n",
       "      <td>15</td>\n",
       "      <td>15</td>\n",
       "      <td>44</td>\n",
       "      <td>Midday</td>\n",
       "      <td>(72, 447)</td>\n",
       "    </tr>\n",
       "    <tr>\n",
       "      <th>4</th>\n",
       "      <td>306</td>\n",
       "      <td>2018-01-01 18:14:51.568</td>\n",
       "      <td>2018-01-01 18:19:57.642</td>\n",
       "      <td>72</td>\n",
       "      <td>3356</td>\n",
       "      <td>30319</td>\n",
       "      <td>1992</td>\n",
       "      <td>1</td>\n",
       "      <td>0</td>\n",
       "      <td>0</td>\n",
       "      <td>18</td>\n",
       "      <td>18</td>\n",
       "      <td>26</td>\n",
       "      <td>Commuter</td>\n",
       "      <td>(72, 3356)</td>\n",
       "    </tr>\n",
       "  </tbody>\n",
       "</table>\n",
       "</div>"
      ],
      "text/plain": [
       "   tripduration               starttime                stoptime  \\\n",
       "0           970 2018-01-01 13:50:57.434 2018-01-01 14:07:08.186   \n",
       "1           723 2018-01-01 15:33:30.182 2018-01-01 15:45:33.341   \n",
       "2           496 2018-01-01 15:39:18.337 2018-01-01 15:47:35.172   \n",
       "3           306 2018-01-01 15:40:13.372 2018-01-01 15:45:20.191   \n",
       "4           306 2018-01-01 18:14:51.568 2018-01-01 18:19:57.642   \n",
       "\n",
       "   start station id  end station id  bikeid  birth year  gender  start_day  \\\n",
       "0                72             505   31956        1992       1          0   \n",
       "1                72            3255   32536        1969       1          0   \n",
       "2                72             525   16069        1956       1          0   \n",
       "3                72             447   31781        1974       1          0   \n",
       "4                72            3356   30319        1992       1          0   \n",
       "\n",
       "   stop_day  pickup_hour  dropoff_hour  age Trip_Type start_end_station  \n",
       "0         0           13            14   26    Midday         (72, 505)  \n",
       "1         0           15            15   49    Midday        (72, 3255)  \n",
       "2         0           15            15   62    Midday         (72, 525)  \n",
       "3         0           15            15   44    Midday         (72, 447)  \n",
       "4         0           18            18   26  Commuter        (72, 3356)  "
      ]
     },
     "execution_count": 9,
     "metadata": {},
     "output_type": "execute_result"
    }
   ],
   "source": [
    "#get_trip_info removes some redundant station info from subs_df and also creates some new columns\n",
    "subs_trips_df = get_trip_info(subs_df)\n",
    "\n",
    "subs_trips_df.head()"
   ]
  },
  {
   "cell_type": "code",
   "execution_count": null,
   "metadata": {},
   "outputs": [],
   "source": []
  },
  {
   "cell_type": "code",
   "execution_count": null,
   "metadata": {},
   "outputs": [],
   "source": [
    "#Export the results as pickled dateframes for use in other analyses \n",
    "winter_df.to_pickle('..data/pickledDFs/NYC_Winter_2018.pkl')\n",
    "subs_df.to_pickle('../data/pickledDFs/subs_df-NYC_Winter_2018.pkl')\n",
    "stations_info_df.to_pickle('../data/pickledDFs/stations_info_df-NYC_Winter_2018.pkl')\n",
    "subs_trips_df.to_pickle('../data/pickledDFs/subs_trips_df-NYC_Winter_2018.pkl')"
   ]
  },
  {
   "cell_type": "markdown",
   "metadata": {
    "scrolled": true
   },
   "source": [
    "Now, separate out weekday vs weekend trips and check some details "
   ]
  },
  {
   "cell_type": "code",
   "execution_count": 12,
   "metadata": {},
   "outputs": [],
   "source": [
    "#Separate out the weekday and weekend trips\n",
    "weekday_subs_trips_df = subs_trips_df[subs_trips_df['Trip_Type'] != 'Weekend'].copy()\n",
    "weekend_subs_trips_df = subs_trips_df[subs_trips_df['Trip_Type'] == 'Weekend'].copy()"
   ]
  },
  {
   "cell_type": "code",
   "execution_count": 17,
   "metadata": {},
   "outputs": [
    {
     "data": {
      "text/html": [
       "<div>\n",
       "<style scoped>\n",
       "    .dataframe tbody tr th:only-of-type {\n",
       "        vertical-align: middle;\n",
       "    }\n",
       "\n",
       "    .dataframe tbody tr th {\n",
       "        vertical-align: top;\n",
       "    }\n",
       "\n",
       "    .dataframe thead th {\n",
       "        text-align: right;\n",
       "    }\n",
       "</style>\n",
       "<table border=\"1\" class=\"dataframe\">\n",
       "  <thead>\n",
       "    <tr style=\"text-align: right;\">\n",
       "      <th></th>\n",
       "      <th>tripduration</th>\n",
       "      <th>birth year</th>\n",
       "    </tr>\n",
       "  </thead>\n",
       "  <tbody>\n",
       "    <tr>\n",
       "      <th>count</th>\n",
       "      <td>2538780.00</td>\n",
       "      <td>2538780.00</td>\n",
       "    </tr>\n",
       "    <tr>\n",
       "      <th>mean</th>\n",
       "      <td>864.84</td>\n",
       "      <td>1977.94</td>\n",
       "    </tr>\n",
       "    <tr>\n",
       "      <th>std</th>\n",
       "      <td>31231.93</td>\n",
       "      <td>12.09</td>\n",
       "    </tr>\n",
       "    <tr>\n",
       "      <th>min</th>\n",
       "      <td>61.00</td>\n",
       "      <td>1885.00</td>\n",
       "    </tr>\n",
       "    <tr>\n",
       "      <th>25%</th>\n",
       "      <td>321.00</td>\n",
       "      <td>1969.00</td>\n",
       "    </tr>\n",
       "    <tr>\n",
       "      <th>50%</th>\n",
       "      <td>521.00</td>\n",
       "      <td>1980.00</td>\n",
       "    </tr>\n",
       "    <tr>\n",
       "      <th>75%</th>\n",
       "      <td>875.00</td>\n",
       "      <td>1988.00</td>\n",
       "    </tr>\n",
       "    <tr>\n",
       "      <th>max</th>\n",
       "      <td>19510049.00</td>\n",
       "      <td>2002.00</td>\n",
       "    </tr>\n",
       "  </tbody>\n",
       "</table>\n",
       "</div>"
      ],
      "text/plain": [
       "       tripduration  birth year\n",
       "count    2538780.00  2538780.00\n",
       "mean         864.84     1977.94\n",
       "std        31231.93       12.09\n",
       "min           61.00     1885.00\n",
       "25%          321.00     1969.00\n",
       "50%          521.00     1980.00\n",
       "75%          875.00     1988.00\n",
       "max     19510049.00     2002.00"
      ]
     },
     "execution_count": 17,
     "metadata": {},
     "output_type": "execute_result"
    }
   ],
   "source": [
    "winter_df[['tripduration','birth year']].describe().round(2)"
   ]
  },
  {
   "cell_type": "code",
   "execution_count": 15,
   "metadata": {},
   "outputs": [
    {
     "data": {
      "text/html": [
       "<div>\n",
       "<style scoped>\n",
       "    .dataframe tbody tr th:only-of-type {\n",
       "        vertical-align: middle;\n",
       "    }\n",
       "\n",
       "    .dataframe tbody tr th {\n",
       "        vertical-align: top;\n",
       "    }\n",
       "\n",
       "    .dataframe thead th {\n",
       "        text-align: right;\n",
       "    }\n",
       "</style>\n",
       "<table border=\"1\" class=\"dataframe\">\n",
       "  <thead>\n",
       "    <tr style=\"text-align: right;\">\n",
       "      <th></th>\n",
       "      <th>tripduration</th>\n",
       "      <th>age</th>\n",
       "    </tr>\n",
       "  </thead>\n",
       "  <tbody>\n",
       "    <tr>\n",
       "      <th>count</th>\n",
       "      <td>1925298.00</td>\n",
       "      <td>1925298.00</td>\n",
       "    </tr>\n",
       "    <tr>\n",
       "      <th>mean</th>\n",
       "      <td>650.46</td>\n",
       "      <td>40.07</td>\n",
       "    </tr>\n",
       "    <tr>\n",
       "      <th>std</th>\n",
       "      <td>494.49</td>\n",
       "      <td>12.14</td>\n",
       "    </tr>\n",
       "    <tr>\n",
       "      <th>min</th>\n",
       "      <td>61.00</td>\n",
       "      <td>16.00</td>\n",
       "    </tr>\n",
       "    <tr>\n",
       "      <th>25%</th>\n",
       "      <td>316.00</td>\n",
       "      <td>30.00</td>\n",
       "    </tr>\n",
       "    <tr>\n",
       "      <th>50%</th>\n",
       "      <td>506.00</td>\n",
       "      <td>38.00</td>\n",
       "    </tr>\n",
       "    <tr>\n",
       "      <th>75%</th>\n",
       "      <td>824.00</td>\n",
       "      <td>49.00</td>\n",
       "    </tr>\n",
       "    <tr>\n",
       "      <th>max</th>\n",
       "      <td>7186.00</td>\n",
       "      <td>133.00</td>\n",
       "    </tr>\n",
       "  </tbody>\n",
       "</table>\n",
       "</div>"
      ],
      "text/plain": [
       "       tripduration         age\n",
       "count    1925298.00  1925298.00\n",
       "mean         650.46       40.07\n",
       "std          494.49       12.14\n",
       "min           61.00       16.00\n",
       "25%          316.00       30.00\n",
       "50%          506.00       38.00\n",
       "75%          824.00       49.00\n",
       "max         7186.00      133.00"
      ]
     },
     "execution_count": 15,
     "metadata": {},
     "output_type": "execute_result"
    }
   ],
   "source": [
    "weekday_subs_trips_df[['tripduration','age']].describe().round(2)"
   ]
  },
  {
   "cell_type": "code",
   "execution_count": 16,
   "metadata": {},
   "outputs": [
    {
     "data": {
      "text/html": [
       "<div>\n",
       "<style scoped>\n",
       "    .dataframe tbody tr th:only-of-type {\n",
       "        vertical-align: middle;\n",
       "    }\n",
       "\n",
       "    .dataframe tbody tr th {\n",
       "        vertical-align: top;\n",
       "    }\n",
       "\n",
       "    .dataframe thead th {\n",
       "        text-align: right;\n",
       "    }\n",
       "</style>\n",
       "<table border=\"1\" class=\"dataframe\">\n",
       "  <thead>\n",
       "    <tr style=\"text-align: right;\">\n",
       "      <th></th>\n",
       "      <th>tripduration</th>\n",
       "      <th>age</th>\n",
       "    </tr>\n",
       "  </thead>\n",
       "  <tbody>\n",
       "    <tr>\n",
       "      <th>count</th>\n",
       "      <td>496953.00</td>\n",
       "      <td>496953.00</td>\n",
       "    </tr>\n",
       "    <tr>\n",
       "      <th>mean</th>\n",
       "      <td>668.36</td>\n",
       "      <td>38.83</td>\n",
       "    </tr>\n",
       "    <tr>\n",
       "      <th>std</th>\n",
       "      <td>545.62</td>\n",
       "      <td>12.30</td>\n",
       "    </tr>\n",
       "    <tr>\n",
       "      <th>min</th>\n",
       "      <td>61.00</td>\n",
       "      <td>16.00</td>\n",
       "    </tr>\n",
       "    <tr>\n",
       "      <th>25%</th>\n",
       "      <td>307.00</td>\n",
       "      <td>29.00</td>\n",
       "    </tr>\n",
       "    <tr>\n",
       "      <th>50%</th>\n",
       "      <td>500.00</td>\n",
       "      <td>36.00</td>\n",
       "    </tr>\n",
       "    <tr>\n",
       "      <th>75%</th>\n",
       "      <td>844.00</td>\n",
       "      <td>48.00</td>\n",
       "    </tr>\n",
       "    <tr>\n",
       "      <th>max</th>\n",
       "      <td>7164.00</td>\n",
       "      <td>133.00</td>\n",
       "    </tr>\n",
       "  </tbody>\n",
       "</table>\n",
       "</div>"
      ],
      "text/plain": [
       "       tripduration        age\n",
       "count     496953.00  496953.00\n",
       "mean         668.36      38.83\n",
       "std          545.62      12.30\n",
       "min           61.00      16.00\n",
       "25%          307.00      29.00\n",
       "50%          500.00      36.00\n",
       "75%          844.00      48.00\n",
       "max         7164.00     133.00"
      ]
     },
     "execution_count": 16,
     "metadata": {},
     "output_type": "execute_result"
    }
   ],
   "source": [
    "weekend_subs_trips_df[['tripduration','age']].describe().round(2)"
   ]
  },
  {
   "cell_type": "code",
   "execution_count": 22,
   "metadata": {},
   "outputs": [
    {
     "name": "stdout",
     "output_type": "stream",
     "text": [
      "total weekday trips: 1925298\n",
      "total weekend trips: 496953\n",
      "Sum: 2422251\n"
     ]
    }
   ],
   "source": [
    "print('total weekday trips: {}'.format(len(weekday_subs_trips_df)))\n",
    "print('total weekend trips: {}'.format(len(weekend_subs_trips_df)))\n",
    "print('Sum: {}'.format(len(weekend_subs_trips_df)+len(weekday_subs_trips_df)))"
   ]
  },
  {
   "cell_type": "markdown",
   "metadata": {},
   "source": [
    "The following are just simple plots of various aspects of the data. \n",
    "\n",
    "The first two are total trip counts per hour for weekday and weekend."
   ]
  },
  {
   "cell_type": "code",
   "execution_count": 40,
   "metadata": {},
   "outputs": [
    {
     "data": {
      "image/png": "[encoded data removed]",
      "text/plain": [
       "<Figure size 864x288 with 2 Axes>"
      ]
     },
     "metadata": {
      "needs_background": "light"
     },
     "output_type": "display_data"
    }
   ],
   "source": [
    "#Total trips (= num pickups) by hour (weekday)\n",
    "fig, ax= plt.subplots(1,2,figsize = (12,4)) \n",
    "\n",
    "\n",
    "WD_total_rides_by_hour = weekday_subs_trips_df.groupby('pickup_hour')['starttime'].count()\n",
    "\n",
    "ax[0].bar(WD_total_rides_by_hour.index,WD_total_rides_by_hour)\n",
    "ax[0].set_title('Total Trips per Hour (weekdays)')\n",
    "ax[0].set_xlabel('Hour')\n",
    "ax[0].set_ylabel('Number of Trips')\n",
    "\n",
    "WE_total_rides_by_hour = weekend_subs_trips_df.groupby('pickup_hour')['starttime'].count()\n",
    "\n",
    "ax[1].bar(WE_total_rides_by_hour.index,WE_total_rides_by_hour)\n",
    "ax[1].set_title('Total Trips per Hour (weekends)')\n",
    "ax[1].set_xlabel('Hour')\n",
    "ax[1].set_ylabel('Number of Trips');"
   ]
  },
  {
   "cell_type": "code",
   "execution_count": 23,
   "metadata": {},
   "outputs": [
    {
     "data": {
      "text/plain": [
       "Text(0, 0.5, 'Number of Trips')"
      ]
     },
     "execution_count": 23,
     "metadata": {},
     "output_type": "execute_result"
    },
    {
     "data": {
      "image/png": "[encoded data removed]",
      "text/plain": [
       "<Figure size 432x288 with 1 Axes>"
      ]
     },
     "metadata": {
      "needs_background": "light"
     },
     "output_type": "display_data"
    }
   ],
   "source": [
    "#Total trips (= num pickups) by hour (weekday)\n",
    "fig = plt.figure()\n",
    "ax = fig.gca()\n",
    "\n",
    "total_rides_by_hour = weekday_subs_trips_df.groupby('pickup_hour')['starttime'].count()\n",
    "\n",
    "ax.bar(total_rides_by_hour.index,total_rides_by_hour)\n",
    "ax.set_title('Total Trips per Hour (weekdays)')\n",
    "ax.set_xlabel('Hour')\n",
    "ax.set_ylabel('Number of Trips')\n",
    "\n"
   ]
  },
  {
   "cell_type": "code",
   "execution_count": 24,
   "metadata": {},
   "outputs": [
    {
     "data": {
      "text/plain": [
       "Text(0.5, 1.0, 'Total Trips per Hour (weekends)')"
      ]
     },
     "execution_count": 24,
     "metadata": {},
     "output_type": "execute_result"
    },
    {
     "data": {
      "image/png": "[encoded data removed]",
      "text/plain": [
       "<Figure size 432x288 with 1 Axes>"
      ]
     },
     "metadata": {
      "needs_background": "light"
     },
     "output_type": "display_data"
    }
   ],
   "source": [
    "#Total trips by hour (weekend)\n",
    "fig = plt.figure()\n",
    "ax = fig.gca()\n",
    "\n",
    "total_rides_by_hour = weekend_subs_trips_df.groupby('pickup_hour')['starttime'].count()\n",
    "\n",
    "ax.bar(total_rides_by_hour.index,total_rides_by_hour)\n",
    "\n",
    "ax.set_xlabel('Hour')\n",
    "ax.set_ylabel('Number of Trips')\n",
    "\n",
    "ax.set_title('Total Trips per Hour (weekends)')"
   ]
  },
  {
   "cell_type": "markdown",
   "metadata": {},
   "source": [
    "Now we plot the same for a single station, choosing the station with the most total trips (for weekdays and weekends, respectively)"
   ]
  },
  {
   "cell_type": "code",
   "execution_count": 41,
   "metadata": {},
   "outputs": [
    {
     "data": {
      "image/png": "[encoded data removed]",
      "text/plain": [
       "<Figure size 864x288 with 2 Axes>"
      ]
     },
     "metadata": {
      "needs_background": "light"
     },
     "output_type": "display_data"
    }
   ],
   "source": [
    "fig, ax= plt.subplots(1,2,figsize = (12,4)) \n",
    "\n",
    "\n",
    "WD_total_rides_by_hr_st = weekday_subs_trips_df.groupby(['pickup_hour','start station id'])['tripduration'].count()\n",
    "WD_total_rides_by_hr_st = WD_total_rides_by_hr_st.rename('total_trips') \n",
    "\n",
    "#max_pu_st = total_rides_by_hr_st.idxmax()[1]\n",
    "WD_max_pu_st = weekday_subs_trips_df.groupby(['start station id'])['tripduration'].count().idxmax()\n",
    "\n",
    "WD_top_pu_station = WD_total_rides_by_hr_st.loc[:,WD_max_pu_st]\n",
    "\n",
    "WE_total_rides_by_hr_st = weekend_subs_trips_df.groupby(['pickup_hour','start station id'])['tripduration'].count()\n",
    "WE_total_rides_by_hr_st = WE_total_rides_by_hr_st.rename('total_trips') \n",
    "\n",
    "#max_pu_st = total_rides_by_hr_st.idxmax()[1]\n",
    "WE_max_pu_st = weekend_subs_trips_df.groupby(['start station id'])['tripduration'].count().idxmax()\n",
    "\n",
    "WE_top_pu_station = WE_total_rides_by_hr_st.loc[:,WE_max_pu_st]\n",
    "\n",
    "\n",
    "ax[0].bar(WD_top_pu_station.index,WD_top_pu_station)\n",
    "#ax.set_title('Pickups per hour for top (hourly) station (weekday)')\n",
    "ax[0].set_title('Pickups per hour for top weekday station \\n (station #{}: {})'.format(WD_max_pu_st,stations_info_df.loc[WD_max_pu_st]['station name']))\n",
    "ax[0].set_xlabel('Hour')\n",
    "ax[0].set_ylabel('Number of Trips')\n",
    "\n",
    "ax[1].bar(WE_top_pu_station.index,WE_top_pu_station)\n",
    "#ax.set_title('Pickups per hour for top (hourly) weekend station')\n",
    "ax[1].set_title('Pickups per hour for top station (weekend) \\n (station #{}: {})'.format(WE_max_pu_st,stations_info_df.loc[WE_max_pu_st]['station name']))\n",
    "ax[1].set_xlabel('Hour')\n",
    "ax[1].set_ylabel('Number of Trips');\n"
   ]
  },
  {
   "cell_type": "markdown",
   "metadata": {},
   "source": [
    "Plots of average trip duration by hour for weekdays and weekends"
   ]
  },
  {
   "cell_type": "code",
   "execution_count": 42,
   "metadata": {},
   "outputs": [
    {
     "data": {
      "text/plain": [
       "Text(0.5, 1.0, 'Average trip duration by hour (weekend)')"
      ]
     },
     "execution_count": 42,
     "metadata": {},
     "output_type": "execute_result"
    },
    {
     "data": {
      "image/png": "[encoded data removed]",
      "text/plain": [
       "<Figure size 864x288 with 2 Axes>"
      ]
     },
     "metadata": {
      "needs_background": "light"
     },
     "output_type": "display_data"
    }
   ],
   "source": [
    "fig, ax= plt.subplots(1,2,figsize = (12,4)) \n",
    "\n",
    "\n",
    "WD_avg_duration_by_hour = weekday_subs_trips_df.groupby('pickup_hour')['tripduration'].mean()\n",
    "WD_total_rides_by_hour = weekday_subs_trips_df.groupby('pickup_hour')['tripduration'].count()\n",
    "WD_yerror = weekday_subs_trips_df.groupby('pickup_hour')['tripduration'].std()/(WD_total_rides_by_hour)**(1/2)\n",
    "\n",
    "ax[0].bar(WD_avg_duration_by_hour.index,WD_avg_duration_by_hour, yerr=WD_yerror,ecolor = 'orange')\n",
    "ax[0].set_title('Average trip duration by hour (weekday)')\n",
    "\n",
    "WE_avg_duration_by_hour = weekend_subs_trips_df.groupby('pickup_hour')['tripduration'].mean()\n",
    "WE_total_rides_by_hour = weekend_subs_trips_df.groupby('pickup_hour')['tripduration'].count()\n",
    "WE_yerror = weekend_subs_trips_df.groupby('pickup_hour')['tripduration'].std()/(WE_total_rides_by_hour)**(1/2)\n",
    "\n",
    "ax[1].bar(WE_avg_duration_by_hour.index,WE_avg_duration_by_hour, yerr=WE_yerror,ecolor = 'orange')\n",
    "ax[1].set_title('Average trip duration by hour (weekend)')"
   ]
  },
  {
   "cell_type": "markdown",
   "metadata": {},
   "source": [
    "Plots of average age by hour"
   ]
  },
  {
   "cell_type": "code",
   "execution_count": 44,
   "metadata": {
    "scrolled": false
   },
   "outputs": [
    {
     "data": {
      "image/png": "[encoded data removed]",
      "text/plain": [
       "<Figure size 864x288 with 2 Axes>"
      ]
     },
     "metadata": {
      "needs_background": "light"
     },
     "output_type": "display_data"
    }
   ],
   "source": [
    "fig, ax= plt.subplots(1,2,figsize = (12,4)) \n",
    "\n",
    "WD_avg_age_by_hour = weekday_subs_trips_df.groupby('pickup_hour')['age'].mean()\n",
    "\n",
    "WD_total_rides_by_hour = weekday_subs_trips_df.groupby('pickup_hour')['age'].count()\n",
    "WD_yerror = weekday_subs_trips_df.groupby('pickup_hour')['age'].std()/WD_avg_age_by_hour #Relative standard deviation instead of std dev of mean\n",
    "\n",
    "ax[0].bar(WD_avg_age_by_hour.index,WD_avg_age_by_hour,yerr=WD_yerror, ecolor='orange')\n",
    "ax[0].set_title('Average age by hour (weekday)')\n",
    "\n",
    "WE_avg_age_by_hour = weekend_subs_trips_df.groupby('pickup_hour')['age'].mean()\n",
    "\n",
    "WE_total_rides_by_hour = weekend_subs_trips_df.groupby('pickup_hour')['age'].count()\n",
    "WE_yerror = weekend_subs_trips_df.groupby('pickup_hour')['age'].std()/WE_avg_age_by_hour #Relative standard deviation instead of std dev of mean\n",
    "\n",
    "ax[1].bar(WE_avg_age_by_hour.index,WE_avg_age_by_hour,yerr=WE_yerror, ecolor='orange')\n",
    "ax[1].set_title('Average age by hour (weekend)');"
   ]
  },
  {
   "cell_type": "markdown",
   "metadata": {},
   "source": [
    "Trip duration histograms"
   ]
  },
  {
   "cell_type": "code",
   "execution_count": 70,
   "metadata": {},
   "outputs": [
    {
     "data": {
      "image/png": "[encoded data removed]",
      "text/plain": [
       "<Figure size 864x288 with 2 Axes>"
      ]
     },
     "metadata": {
      "needs_background": "light"
     },
     "output_type": "display_data"
    }
   ],
   "source": [
    "fig, ax = plt.subplots(1,2,figsize=(12,4))\n",
    "\n",
    "#duration_by_hour = weekday_subs_trips_df.groupby('pickup_hour')['tripduration']\n",
    "\n",
    "plt.sca(ax[0])\n",
    "weekday_subs_trips_df['tripduration'].hist(bins=64,histtype='step')\n",
    "weekend_subs_trips_df['tripduration'].hist(bins=64,histtype='step')\n",
    "\n",
    "ax[0].grid(False)\n",
    "ax[0].legend(['Weekday', 'Weekend'])\n",
    "ax[0].set_title('Trip duration Histogram');\n",
    "\n",
    "plt.sca(ax[1])\n",
    "weekday_subs_trips_df['tripduration'].hist(bins=64,histtype='step',density=True)\n",
    "weekend_subs_trips_df['tripduration'].hist(bins=64,histtype='step',density=True)\n",
    "ax[1].grid(False)\n",
    "ax[1].legend(['Weekday', 'Weekend'])\n",
    "ax[1].set_title('Trip duration PMF');\n",
    "\n",
    "#\n",
    "#fig = plt.figure()\n",
    "#ax = fig.gca()\n",
    "#\n",
    "#weekday_subs_trips_df['tripduration'].hist(bins=64,histtype='step')\n",
    "#weekend_subs_trips_df['tripduration'].hist(bins=64,histtype='step')\n",
    "#ax.grid(False)\n",
    "#ax.legend(['Weekday', 'Weekend'])\n",
    "#ax.set_title('Trip duration histogram')"
   ]
  },
  {
   "cell_type": "markdown",
   "metadata": {},
   "source": [
    "Hourly trip duration histograms, all follow roughly the same distribution"
   ]
  },
  {
   "cell_type": "code",
   "execution_count": 71,
   "metadata": {},
   "outputs": [
    {
     "data": {
      "text/plain": [
       "<matplotlib.legend.Legend at 0x1ac6a8c1b70>"
      ]
     },
     "execution_count": 71,
     "metadata": {},
     "output_type": "execute_result"
    },
    {
     "data": {
      "image/png": "[encoded data removed]",
      "text/plain": [
       "<Figure size 864x720 with 4 Axes>"
      ]
     },
     "metadata": {
      "needs_background": "light"
     },
     "output_type": "display_data"
    }
   ],
   "source": [
    "fig, ax = plt.subplots(2,2,figsize=(12,10))\n",
    "\n",
    "duration_by_hour = weekday_subs_trips_df.groupby('pickup_hour')['tripduration']\n",
    "\n",
    "plt.sca(ax[0,0])\n",
    "duration_by_hour.hist(bins=64,histtype ='step')\n",
    "\n",
    "plt.sca(ax[0,1])\n",
    "duration_by_hour.hist(bins=64,histtype ='step',density=True)\n",
    "\n",
    "plt.sca(ax[1,0])\n",
    "duration_by_hour.hist(bins=64,histtype ='step',log=True)\n",
    "\n",
    "plt.sca(ax[1,1])\n",
    "duration_by_hour.hist(bins=64,histtype ='step',density=True,log=True)\n",
    "\n",
    "ax[0,0].set_title('Trip duration histogram by hour (weekday)')\n",
    "ax[0,0].grid(False)\n",
    "\n",
    "\n",
    "ax[0,1].set_title('Trip duration PMF by hour (weekday)')\n",
    "ax[0,1].grid(False)\n",
    "\n",
    "ax[1,0].set_title('Trip duration histogram by hour (weekday) (Log-scale)')\n",
    "ax[1,0].grid(False)\n",
    "\n",
    "\n",
    "ax[1,1].set_title('Trip duration PMF by hour (weekday) (Log-scale)')\n",
    "ax[1,1].grid(False)\n",
    "\n",
    "ax[0,1].legend(labels = list(range(24)),ncol=4)"
   ]
  },
  {
   "cell_type": "code",
   "execution_count": 72,
   "metadata": {},
   "outputs": [
    {
     "data": {
      "text/plain": [
       "<matplotlib.legend.Legend at 0x1ac6b1aac50>"
      ]
     },
     "execution_count": 72,
     "metadata": {},
     "output_type": "execute_result"
    },
    {
     "data": {
      "image/png": "[encoded data removed]",
      "text/plain": [
       "<Figure size 864x720 with 4 Axes>"
      ]
     },
     "metadata": {
      "needs_background": "light"
     },
     "output_type": "display_data"
    }
   ],
   "source": [
    "fig, ax = plt.subplots(2,2,figsize=(12,10))\n",
    "\n",
    "duration_by_hour = weekend_subs_trips_df.groupby('pickup_hour')['tripduration']\n",
    "\n",
    "plt.sca(ax[0,0])\n",
    "duration_by_hour.hist(bins=64,histtype ='step')\n",
    "\n",
    "plt.sca(ax[0,1])\n",
    "duration_by_hour.hist(bins=64,histtype ='step',density=True)\n",
    "\n",
    "plt.sca(ax[1,0])\n",
    "duration_by_hour.hist(bins=64,histtype ='step',log=True)\n",
    "\n",
    "plt.sca(ax[1,1])\n",
    "duration_by_hour.hist(bins=64,histtype ='step',density=True,log=True)\n",
    "\n",
    "ax[0,0].set_title('Trip duration histogram by hour (weekend)')\n",
    "ax[0,0].grid(False)\n",
    "\n",
    "\n",
    "ax[0,1].set_title('Trip duration PMF by hour (weekend)')\n",
    "ax[0,1].grid(False)\n",
    "\n",
    "ax[1,0].set_title('Trip duration histogram by hour (weekend) (Log-scale)')\n",
    "ax[1,0].grid(False)\n",
    "\n",
    "\n",
    "ax[1,1].set_title('Trip duration PMF by hour (weekend) (Log-scale)')\n",
    "ax[1,1].grid(False)\n",
    "\n",
    "ax[0,1].legend(labels = list(range(24)),ncol=4)"
   ]
  },
  {
   "cell_type": "markdown",
   "metadata": {},
   "source": [
    "Histogram of ages"
   ]
  },
  {
   "cell_type": "code",
   "execution_count": 73,
   "metadata": {},
   "outputs": [
    {
     "data": {
      "text/plain": [
       "Text(0.5, 1.0, 'Age histogram (weekday)')"
      ]
     },
     "execution_count": 73,
     "metadata": {},
     "output_type": "execute_result"
    },
    {
     "data": {
      "image/png": "[encoded data removed]",
      "text/plain": [
       "<Figure size 432x288 with 1 Axes>"
      ]
     },
     "metadata": {
      "needs_background": "light"
     },
     "output_type": "display_data"
    }
   ],
   "source": [
    "fig = plt.figure()\n",
    "ax = fig.gca()\n",
    "\n",
    "\n",
    "ages_series  = weekday_subs_trips_df[weekday_subs_trips_df['age'] < 100]['age']\n",
    "#duration_by_hour = short_weekend_subs_trips_df.groupby('pickup_hour')['tripduration']\n",
    "\n",
    "ages_series.hist(bins=list([n for n in range(ages_series.min(),ages_series.max())]),histtype='step')\n",
    "#ax.hist(duration_by_hour)\n",
    "\n",
    "ax.grid(False)\n",
    "#ax.bar(avg_duration_by_hour.index,avg_duration_by_hour,yerr=yerror, ecolor='orange')\n",
    "ax.set_title('Age histogram (weekday)')\n",
    "#ax.legend(labels = list(range(24)),ncol=4)"
   ]
  },
  {
   "cell_type": "code",
   "execution_count": 63,
   "metadata": {},
   "outputs": [
    {
     "data": {
      "text/plain": [
       "age\n",
       "29    71838\n",
       "28    71622\n",
       "30    71381\n",
       "33    69877\n",
       "32    68088\n",
       "31    67479\n",
       "27    66491\n",
       "34    64270\n",
       "49    63028\n",
       "35    60967\n",
       "26    60544\n",
       "36    60078\n",
       "37    55756\n",
       "25    51039\n",
       "39    50970\n",
       "Name: age, dtype: int64"
      ]
     },
     "execution_count": 63,
     "metadata": {},
     "output_type": "execute_result"
    }
   ],
   "source": [
    "#For some reason there are alot of users that are near 50, it turns out 49 is the number with the sharp peak above\n",
    "ages_series.groupby(by=ages_series).count().nlargest(15)"
   ]
  },
  {
   "cell_type": "code",
   "execution_count": 65,
   "metadata": {},
   "outputs": [
    {
     "data": {
      "text/plain": [
       "birth year\n",
       "1989    71838\n",
       "1990    71622\n",
       "1988    71381\n",
       "1985    69877\n",
       "1986    68088\n",
       "1987    67479\n",
       "1991    66491\n",
       "1984    64270\n",
       "1969    63028\n",
       "1983    60967\n",
       "1992    60544\n",
       "1982    60078\n",
       "1981    55756\n",
       "1993    51039\n",
       "1979    50970\n",
       "Name: birth year, dtype: int64"
      ]
     },
     "execution_count": 65,
     "metadata": {},
     "output_type": "execute_result"
    }
   ],
   "source": [
    "# This is actually less interesting than it would appear, if we look at it in terms of birthyear.... \n",
    "# Perhaps we should take the age listings with a grain of salt...\n",
    "birthyear_series= weekday_subs_trips_df[weekday_subs_trips_df['age'] < 100]['birth year']\n",
    "birthyear_series.groupby(by=birthyear_series).count().nlargest(15)"
   ]
  },
  {
   "cell_type": "code",
   "execution_count": null,
   "metadata": {},
   "outputs": [],
   "source": []
  },
  {
   "cell_type": "markdown",
   "metadata": {},
   "source": [
    "Can also consider distribution for individual bike usage (total time)"
   ]
  },
  {
   "cell_type": "code",
   "execution_count": 66,
   "metadata": {},
   "outputs": [
    {
     "data": {
      "image/png": "[encoded data removed]",
      "text/plain": [
       "<Figure size 921.6x345.6 with 2 Axes>"
      ]
     },
     "metadata": {
      "needs_background": "light"
     },
     "output_type": "display_data"
    }
   ],
   "source": [
    "fig = plt.subplots(1,2,figsize=(12.8,4.8))\n",
    "\n",
    "\n",
    "total_duration_by_bikeid = weekday_subs_trips_df.groupby('bikeid')['tripduration'].sum()\n",
    "\n",
    "\n",
    "plt.subplot(121)\n",
    "total_duration_by_bikeid.hist(bins=60,histtype='step')#,density=True)\n",
    "plt.grid(False)\n",
    "ax=plt.gca()\n",
    "ax.set_title('Bike usage histogram (total time in use)')\n",
    "\n",
    "plt.subplot(122)\n",
    "total_duration_by_bikeid.hist(bins=60,histtype='step',cumulative=True)\n",
    "plt.grid(False)\n",
    "ax=plt.gca()\n",
    "ax.set_title('Bike usage CDF (total time in use)')\n",
    "\n",
    "plt.show()\n",
    "\n"
   ]
  },
  {
   "cell_type": "markdown",
   "metadata": {},
   "source": [
    "Similar results for total number of trips"
   ]
  },
  {
   "cell_type": "code",
   "execution_count": 68,
   "metadata": {
    "scrolled": true
   },
   "outputs": [
    {
     "data": {
      "image/png": "[encoded data removed]",
      "text/plain": [
       "<Figure size 921.6x345.6 with 2 Axes>"
      ]
     },
     "metadata": {
      "needs_background": "light"
     },
     "output_type": "display_data"
    }
   ],
   "source": [
    "fig = plt.subplots(1,2,figsize=(12.8,4.8))\n",
    "#ax = fig.gca()\n",
    "\n",
    "total_trips_by_bikeid = weekday_subs_trips_df.groupby('bikeid')['tripduration'].count()\n",
    "\n",
    "plt.subplot(121)\n",
    "total_trips_by_bikeid.hist(bins=60,histtype='step')#,density=True)\n",
    "plt.grid(False)\n",
    "ax=plt.gca()\n",
    "ax.set_title('Bike usage histogram (number of trips)')\n",
    "\n",
    "plt.subplot(122)\n",
    "total_trips_by_bikeid.hist(bins=60,histtype='step',cumulative=True)\n",
    "plt.grid(False)\n",
    "ax=plt.gca()\n",
    "ax.set_title('Bike usage CDF (number of trips)')\n",
    "\n",
    "plt.show()\n",
    "\n",
    "\n",
    "\n",
    "#ax.set_title('Bike usage histogram (total trips)')\n",
    "#total_trips_by_bikeid.sort_values(ascending=False).head()"
   ]
  },
  {
   "cell_type": "code",
   "execution_count": 41,
   "metadata": {},
   "outputs": [
    {
     "data": {
      "text/plain": [
       "bikeid\n",
       "32090    3.665486\n",
       "32061    3.627025\n",
       "30624    3.562755\n",
       "32173    3.444340\n",
       "32161    3.373252\n",
       "31851    3.369861\n",
       "30692    3.361771\n",
       "30315    3.347130\n",
       "33017    3.322500\n",
       "32180    3.269549\n",
       "Name: tripduration, dtype: float64"
      ]
     },
     "execution_count": 41,
     "metadata": {},
     "output_type": "execute_result"
    }
   ],
   "source": [
    "\n",
    "\n",
    "total_duration_by_bikeid.nlargest(10)/60/60/24\n"
   ]
  },
  {
   "cell_type": "code",
   "execution_count": 69,
   "metadata": {},
   "outputs": [
    {
     "data": {
      "text/plain": [
       "count    12253.00\n",
       "mean        10.71\n",
       "std          1.43\n",
       "min          1.02\n",
       "25%         10.07\n",
       "50%         10.73\n",
       "75%         11.34\n",
       "max         77.63\n",
       "Name: tripduration, dtype: float64"
      ]
     },
     "execution_count": 69,
     "metadata": {},
     "output_type": "execute_result"
    }
   ],
   "source": [
    "ave_trip_length_by_bikeid = total_duration_by_bikeid.astype(float)/total_trips_by_bikeid.astype(float)/60\n",
    "#print(ave_trip_length_by_bikeid.mean())\n",
    "#print(ave_trip_length_by_bikeid.median())\n",
    "ave_trip_length_by_bikeid.describe().round(2)"
   ]
  },
  {
   "cell_type": "code",
   "execution_count": 71,
   "metadata": {},
   "outputs": [
    {
     "data": {
      "image/png": "[encoded data removed]",
      "text/plain": [
       "<Figure size 921.6x345.6 with 2 Axes>"
      ]
     },
     "metadata": {
      "needs_background": "light"
     },
     "output_type": "display_data"
    }
   ],
   "source": [
    "fig, ax = plt.subplots(1,2,figsize=(12.8,4.8))\n",
    "\n",
    "plt.subplot(121)\n",
    "ave_trip_length_by_bikeid[ave_trip_length_by_bikeid < 20].hist(bins=100,histtype='step')\n",
    "plt.grid(False)\n",
    "ax=plt.gca()\n",
    "ax.grid(False)\n",
    "#ax.set_xlim(right=30)\n",
    "ax.set_title('Bike average trip length histogram');\n",
    "\n",
    "plt.subplot(122)\n",
    "ave_trip_length_by_bikeid[ave_trip_length_by_bikeid < 20].hist(bins=100,histtype='step',cumulative=True)\n",
    "plt.grid(False)\n",
    "ax=plt.gca()\n",
    "ax.grid(False)\n",
    "ax.set_title('Bike average trip length histogram (CDF) ');"
   ]
  },
  {
   "cell_type": "code",
   "execution_count": 72,
   "metadata": {},
   "outputs": [
    {
     "name": "stdout",
     "output_type": "stream",
     "text": [
      "12239\n",
      "12253\n"
     ]
    }
   ],
   "source": [
    "print(len(ave_trip_length_by_bikeid[ave_trip_length_by_bikeid < 20]))\n",
    "print(len(ave_trip_length_by_bikeid))"
   ]
  },
  {
   "cell_type": "code",
   "execution_count": null,
   "metadata": {},
   "outputs": [],
   "source": []
  }
 ],
 "metadata": {
  "kernelspec": {
   "display_name": "Python 3",
   "language": "python",
   "name": "python3"
  },
  "language_info": {
   "codemirror_mode": {
    "name": "ipython",
    "version": 3
   },
   "file_extension": ".py",
   "mimetype": "text/x-python",
   "name": "python",
   "nbconvert_exporter": "python",
   "pygments_lexer": "ipython3",
   "version": "3.7.1"
  }
 },
 "nbformat": 4,
 "nbformat_minor": 2
}
